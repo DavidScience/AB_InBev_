{
  "cells": [
    {
      "cell_type": "markdown",
      "metadata": {
        "id": "view-in-github",
        "colab_type": "text"
      },
      "source": [
        "<a href=\"https://colab.research.google.com/github/DavidScience/AB_InBev_/blob/main/%5B3%5DDesaf%C3%ADo_AB_InBev_DF_Entrenamiento%26Validacion.ipynb\" target=\"_parent\"><img src=\"https://colab.research.google.com/assets/colab-badge.svg\" alt=\"Open In Colab\"/></a>"
      ]
    },
    {
      "cell_type": "markdown",
      "metadata": {
        "id": "4H8OQ_c0cuOX"
      },
      "source": [
        "## [0] Librerías necesarias"
      ],
      "id": "4H8OQ_c0cuOX"
    },
    {
      "cell_type": "code",
      "execution_count": 1,
      "metadata": {
        "colab": {
          "base_uri": "https://localhost:8080/"
        },
        "id": "WVUoZgPLcTc5",
        "outputId": "9e8d2583-8238-4a60-f2c7-03383a9c4427"
      },
      "outputs": [
        {
          "output_type": "stream",
          "name": "stdout",
          "text": [
            "Mounted at /gdrive\n"
          ]
        }
      ],
      "source": [
        "# Conectamos Google Drive con Google Colab\n",
        "from google.colab import drive\n",
        "drive.mount('/gdrive')"
      ],
      "id": "WVUoZgPLcTc5"
    },
    {
      "cell_type": "code",
      "execution_count": 2,
      "metadata": {
        "id": "134b4f1f"
      },
      "outputs": [],
      "source": [
        "# Librerías necesarias para el desarrollo\n",
        "import pandas as pd\n",
        "import numpy as np\n",
        "from datetime import datetime, timedelta\n",
        "from tqdm import tqdm\n",
        "import lightgbm as lgb\n",
        "from sklearn.preprocessing import LabelEncoder\n",
        "import multiprocessing as mp\n",
        "from joblib import Parallel, delayed\n",
        "import pickle"
      ],
      "id": "134b4f1f"
    },
    {
      "cell_type": "markdown",
      "metadata": {
        "id": "fcNjlo--cpNY"
      },
      "source": [
        "## [1] Lectura de datos"
      ],
      "id": "fcNjlo--cpNY"
    },
    {
      "cell_type": "code",
      "execution_count": 3,
      "metadata": {
        "id": "c360609c"
      },
      "outputs": [],
      "source": [
        "# Lectura de datos preparados para el entrenamiento del algoritmo\n",
        "datos = pd.read_csv('/gdrive/My Drive/AB_InBev/datos/data_train.csv')"
      ],
      "id": "c360609c"
    },
    {
      "cell_type": "code",
      "execution_count": 4,
      "metadata": {
        "colab": {
          "base_uri": "https://localhost:8080/"
        },
        "id": "cf3078f3",
        "outputId": "b41ab4f1-a239-423f-9c85-567776ede3af"
      },
      "outputs": [
        {
          "output_type": "stream",
          "name": "stdout",
          "text": [
            "2022-01-04\n",
            "2022-06-30\n"
          ]
        }
      ],
      "source": [
        "# Inspección de las fechas más antiguas y recientes\n",
        "print(datos[\"Date\"].min())\n",
        "print(datos[\"Date\"].max())"
      ],
      "id": "cf3078f3"
    },
    {
      "cell_type": "code",
      "execution_count": 5,
      "metadata": {
        "id": "1264ecaf"
      },
      "outputs": [],
      "source": [
        "# Convertimos el campo Date a fecha\n",
        "datos['Date'] = pd.to_datetime(datos['Date'])"
      ],
      "id": "1264ecaf"
    },
    {
      "cell_type": "code",
      "execution_count": 6,
      "metadata": {
        "colab": {
          "base_uri": "https://localhost:8080/"
        },
        "id": "8222900f",
        "outputId": "237f003f-e5ed-4527-99c6-1dadcfabd5e5"
      },
      "outputs": [
        {
          "output_type": "stream",
          "name": "stdout",
          "text": [
            "2022-01-04 00:00:00\n",
            "2022-06-30 00:00:00\n"
          ]
        }
      ],
      "source": [
        "# Inspección de las fechas más antiguas y recientes\n",
        "print(datos[\"Date\"].min())\n",
        "print(datos[\"Date\"].max())"
      ],
      "id": "8222900f"
    },
    {
      "cell_type": "code",
      "execution_count": 7,
      "metadata": {
        "colab": {
          "base_uri": "https://localhost:8080/",
          "height": 206
        },
        "id": "f257c1eb",
        "outputId": "d085833b-655d-4d9c-fc56-3a1403971798"
      },
      "outputs": [
        {
          "output_type": "execute_result",
          "data": {
            "text/plain": [
              "        Date  Account_id  Product_id  Category  Quantity  Year  Month\n",
              "0 2022-01-04    33217773        8324  Gaseosas       712  2022      1\n",
              "1 2022-01-04    33217773        8326  Gaseosas       890  2022      1\n",
              "2 2022-01-04    33217773        9090  Gaseosas       445  2022      1\n",
              "3 2022-01-04    33217773       12620  Gaseosas       890  2022      1\n",
              "4 2022-01-04    33217776        8206  Gaseosas       178  2022      1"
            ],
            "text/html": [
              "\n",
              "  <div id=\"df-5e93dff7-1222-4a3a-8473-c0bc1695803e\">\n",
              "    <div class=\"colab-df-container\">\n",
              "      <div>\n",
              "<style scoped>\n",
              "    .dataframe tbody tr th:only-of-type {\n",
              "        vertical-align: middle;\n",
              "    }\n",
              "\n",
              "    .dataframe tbody tr th {\n",
              "        vertical-align: top;\n",
              "    }\n",
              "\n",
              "    .dataframe thead th {\n",
              "        text-align: right;\n",
              "    }\n",
              "</style>\n",
              "<table border=\"1\" class=\"dataframe\">\n",
              "  <thead>\n",
              "    <tr style=\"text-align: right;\">\n",
              "      <th></th>\n",
              "      <th>Date</th>\n",
              "      <th>Account_id</th>\n",
              "      <th>Product_id</th>\n",
              "      <th>Category</th>\n",
              "      <th>Quantity</th>\n",
              "      <th>Year</th>\n",
              "      <th>Month</th>\n",
              "    </tr>\n",
              "  </thead>\n",
              "  <tbody>\n",
              "    <tr>\n",
              "      <th>0</th>\n",
              "      <td>2022-01-04</td>\n",
              "      <td>33217773</td>\n",
              "      <td>8324</td>\n",
              "      <td>Gaseosas</td>\n",
              "      <td>712</td>\n",
              "      <td>2022</td>\n",
              "      <td>1</td>\n",
              "    </tr>\n",
              "    <tr>\n",
              "      <th>1</th>\n",
              "      <td>2022-01-04</td>\n",
              "      <td>33217773</td>\n",
              "      <td>8326</td>\n",
              "      <td>Gaseosas</td>\n",
              "      <td>890</td>\n",
              "      <td>2022</td>\n",
              "      <td>1</td>\n",
              "    </tr>\n",
              "    <tr>\n",
              "      <th>2</th>\n",
              "      <td>2022-01-04</td>\n",
              "      <td>33217773</td>\n",
              "      <td>9090</td>\n",
              "      <td>Gaseosas</td>\n",
              "      <td>445</td>\n",
              "      <td>2022</td>\n",
              "      <td>1</td>\n",
              "    </tr>\n",
              "    <tr>\n",
              "      <th>3</th>\n",
              "      <td>2022-01-04</td>\n",
              "      <td>33217773</td>\n",
              "      <td>12620</td>\n",
              "      <td>Gaseosas</td>\n",
              "      <td>890</td>\n",
              "      <td>2022</td>\n",
              "      <td>1</td>\n",
              "    </tr>\n",
              "    <tr>\n",
              "      <th>4</th>\n",
              "      <td>2022-01-04</td>\n",
              "      <td>33217776</td>\n",
              "      <td>8206</td>\n",
              "      <td>Gaseosas</td>\n",
              "      <td>178</td>\n",
              "      <td>2022</td>\n",
              "      <td>1</td>\n",
              "    </tr>\n",
              "  </tbody>\n",
              "</table>\n",
              "</div>\n",
              "      <button class=\"colab-df-convert\" onclick=\"convertToInteractive('df-5e93dff7-1222-4a3a-8473-c0bc1695803e')\"\n",
              "              title=\"Convert this dataframe to an interactive table.\"\n",
              "              style=\"display:none;\">\n",
              "        \n",
              "  <svg xmlns=\"http://www.w3.org/2000/svg\" height=\"24px\"viewBox=\"0 0 24 24\"\n",
              "       width=\"24px\">\n",
              "    <path d=\"M0 0h24v24H0V0z\" fill=\"none\"/>\n",
              "    <path d=\"M18.56 5.44l.94 2.06.94-2.06 2.06-.94-2.06-.94-.94-2.06-.94 2.06-2.06.94zm-11 1L8.5 8.5l.94-2.06 2.06-.94-2.06-.94L8.5 2.5l-.94 2.06-2.06.94zm10 10l.94 2.06.94-2.06 2.06-.94-2.06-.94-.94-2.06-.94 2.06-2.06.94z\"/><path d=\"M17.41 7.96l-1.37-1.37c-.4-.4-.92-.59-1.43-.59-.52 0-1.04.2-1.43.59L10.3 9.45l-7.72 7.72c-.78.78-.78 2.05 0 2.83L4 21.41c.39.39.9.59 1.41.59.51 0 1.02-.2 1.41-.59l7.78-7.78 2.81-2.81c.8-.78.8-2.07 0-2.86zM5.41 20L4 18.59l7.72-7.72 1.47 1.35L5.41 20z\"/>\n",
              "  </svg>\n",
              "      </button>\n",
              "      \n",
              "  <style>\n",
              "    .colab-df-container {\n",
              "      display:flex;\n",
              "      flex-wrap:wrap;\n",
              "      gap: 12px;\n",
              "    }\n",
              "\n",
              "    .colab-df-convert {\n",
              "      background-color: #E8F0FE;\n",
              "      border: none;\n",
              "      border-radius: 50%;\n",
              "      cursor: pointer;\n",
              "      display: none;\n",
              "      fill: #1967D2;\n",
              "      height: 32px;\n",
              "      padding: 0 0 0 0;\n",
              "      width: 32px;\n",
              "    }\n",
              "\n",
              "    .colab-df-convert:hover {\n",
              "      background-color: #E2EBFA;\n",
              "      box-shadow: 0px 1px 2px rgba(60, 64, 67, 0.3), 0px 1px 3px 1px rgba(60, 64, 67, 0.15);\n",
              "      fill: #174EA6;\n",
              "    }\n",
              "\n",
              "    [theme=dark] .colab-df-convert {\n",
              "      background-color: #3B4455;\n",
              "      fill: #D2E3FC;\n",
              "    }\n",
              "\n",
              "    [theme=dark] .colab-df-convert:hover {\n",
              "      background-color: #434B5C;\n",
              "      box-shadow: 0px 1px 3px 1px rgba(0, 0, 0, 0.15);\n",
              "      filter: drop-shadow(0px 1px 2px rgba(0, 0, 0, 0.3));\n",
              "      fill: #FFFFFF;\n",
              "    }\n",
              "  </style>\n",
              "\n",
              "      <script>\n",
              "        const buttonEl =\n",
              "          document.querySelector('#df-5e93dff7-1222-4a3a-8473-c0bc1695803e button.colab-df-convert');\n",
              "        buttonEl.style.display =\n",
              "          google.colab.kernel.accessAllowed ? 'block' : 'none';\n",
              "\n",
              "        async function convertToInteractive(key) {\n",
              "          const element = document.querySelector('#df-5e93dff7-1222-4a3a-8473-c0bc1695803e');\n",
              "          const dataTable =\n",
              "            await google.colab.kernel.invokeFunction('convertToInteractive',\n",
              "                                                     [key], {});\n",
              "          if (!dataTable) return;\n",
              "\n",
              "          const docLinkHtml = 'Like what you see? Visit the ' +\n",
              "            '<a target=\"_blank\" href=https://colab.research.google.com/notebooks/data_table.ipynb>data table notebook</a>'\n",
              "            + ' to learn more about interactive tables.';\n",
              "          element.innerHTML = '';\n",
              "          dataTable['output_type'] = 'display_data';\n",
              "          await google.colab.output.renderOutput(dataTable, element);\n",
              "          const docLink = document.createElement('div');\n",
              "          docLink.innerHTML = docLinkHtml;\n",
              "          element.appendChild(docLink);\n",
              "        }\n",
              "      </script>\n",
              "    </div>\n",
              "  </div>\n",
              "  "
            ]
          },
          "metadata": {},
          "execution_count": 7
        }
      ],
      "source": [
        "# Inspeccionamos los primeros registros\n",
        "datos.head()"
      ],
      "id": "f257c1eb"
    },
    {
      "cell_type": "markdown",
      "metadata": {
        "id": "-c1VoiqOe4Pe"
      },
      "source": [
        "## [2] Preparación de los datos"
      ],
      "id": "-c1VoiqOe4Pe"
    },
    {
      "cell_type": "code",
      "execution_count": 8,
      "metadata": {
        "id": "0e61744f"
      },
      "outputs": [],
      "source": [
        "# Creamos un indicador que concatena los indicadores de cliente y producto\n",
        "datos[\"product\"] = datos['Account_id'].astype(\"str\") + '_' + datos['Product_id'].astype(\"str\")"
      ],
      "id": "0e61744f"
    },
    {
      "cell_type": "code",
      "execution_count": 9,
      "metadata": {
        "id": "ad40f31d"
      },
      "outputs": [],
      "source": [
        "# Filtramos los datos a ser modelados\n",
        "datos_mod = datos[[\"Date\", \"product\", \"Quantity\"]]"
      ],
      "id": "ad40f31d"
    },
    {
      "cell_type": "code",
      "execution_count": 10,
      "metadata": {
        "id": "9c4ecba5"
      },
      "outputs": [],
      "source": [
        "# Agregamos los datos a nivel día\n",
        "datos_groupby = datos_mod.groupby([\"Date\", \"product\"]) \\\n",
        "    .agg({\"Quantity\": \"sum\"}) \\\n",
        "    .rename(columns={\"sum(link_cards)\": \"sum_link_cards\"}).reset_index().sort_values(by = \"Quantity\", ascending = False)"
      ],
      "id": "9c4ecba5"
    },
    {
      "cell_type": "code",
      "execution_count": 11,
      "metadata": {
        "id": "66a0aa50"
      },
      "outputs": [],
      "source": [
        "# Filtramos los datos a ser modelados\n",
        "datos_groupby_quan = datos_groupby[[\"Date\", \"product\", \"Quantity\"]]"
      ],
      "id": "66a0aa50"
    },
    {
      "cell_type": "code",
      "execution_count": 12,
      "metadata": {
        "id": "b579f744"
      },
      "outputs": [],
      "source": [
        "# Creamos una copia de los datos a ser modelados\n",
        "features_names = ['Quantity']\n",
        "datos_groupby_2 = datos_groupby_quan.copy()"
      ],
      "id": "b579f744"
    },
    {
      "cell_type": "code",
      "execution_count": 13,
      "metadata": {
        "colab": {
          "base_uri": "https://localhost:8080/"
        },
        "id": "f61b5915",
        "outputId": "710613a7-4484-4859-c718-b61536492102"
      },
      "outputs": [
        {
          "output_type": "stream",
          "name": "stderr",
          "text": [
            "100%|██████████| 30/30 [00:43<00:00,  1.45s/it]\n"
          ]
        }
      ],
      "source": [
        "# Creamos variables autoregresoras\n",
        "for i in tqdm(range(1, 31)):\n",
        "    expressions = {column: f\"{column}_lag_{i}\" for column in features_names}\n",
        "    temporary_df = datos_groupby_2.assign(Date=lambda x: x[\"Date\"] + pd.Timedelta(days=i)) \\\n",
        "                               .rename(columns=expressions)\n",
        "    datos_groupby_quan = datos_groupby_quan.merge(temporary_df, on=[\"Date\", \"product\"], how=\"left\")"
      ],
      "id": "f61b5915"
    },
    {
      "cell_type": "code",
      "execution_count": 14,
      "metadata": {
        "colab": {
          "base_uri": "https://localhost:8080/",
          "height": 386
        },
        "id": "5ba41656",
        "outputId": "d9459293-5d64-407b-d658-485b01de0de3"
      },
      "outputs": [
        {
          "output_type": "execute_result",
          "data": {
            "text/plain": [
              "        Date         product  Quantity  Quantity_lag_1  Quantity_lag_2  \\\n",
              "0 2022-06-30  34636806_23752      1200             NaN             NaN   \n",
              "1 2022-06-30  33254127_14014      1200             NaN             NaN   \n",
              "2 2022-06-30  36792027_16578      1200             NaN             NaN   \n",
              "3 2022-06-30  40205586_11910      1200             NaN             NaN   \n",
              "4 2022-06-30  33226635_14014      1200             NaN             NaN   \n",
              "\n",
              "   Quantity_lag_3  Quantity_lag_4  Quantity_lag_5  Quantity_lag_6  \\\n",
              "0             NaN             NaN             NaN             NaN   \n",
              "1             NaN             NaN             NaN             NaN   \n",
              "2             NaN             NaN             NaN             NaN   \n",
              "3             NaN             NaN             NaN             NaN   \n",
              "4             NaN             NaN             NaN             NaN   \n",
              "\n",
              "   Quantity_lag_7  ...  Quantity_lag_21  Quantity_lag_22  Quantity_lag_23  \\\n",
              "0             NaN  ...              NaN              NaN              NaN   \n",
              "1             NaN  ...              NaN              NaN              NaN   \n",
              "2             NaN  ...              NaN              NaN              NaN   \n",
              "3             NaN  ...              NaN              NaN              NaN   \n",
              "4             NaN  ...           1068.0              NaN              NaN   \n",
              "\n",
              "   Quantity_lag_24  Quantity_lag_25  Quantity_lag_26  Quantity_lag_27  \\\n",
              "0              NaN              NaN              NaN              NaN   \n",
              "1              NaN              NaN              NaN              NaN   \n",
              "2              NaN              NaN              NaN              NaN   \n",
              "3              NaN              NaN              NaN              NaN   \n",
              "4              NaN              NaN              NaN              NaN   \n",
              "\n",
              "   Quantity_lag_28  Quantity_lag_29  Quantity_lag_30  \n",
              "0              NaN              NaN              NaN  \n",
              "1              NaN              NaN              NaN  \n",
              "2              NaN              NaN              NaN  \n",
              "3              NaN              NaN              NaN  \n",
              "4              NaN              NaN              NaN  \n",
              "\n",
              "[5 rows x 33 columns]"
            ],
            "text/html": [
              "\n",
              "  <div id=\"df-104ac7d0-fcc3-412c-8e34-1155670fbaad\">\n",
              "    <div class=\"colab-df-container\">\n",
              "      <div>\n",
              "<style scoped>\n",
              "    .dataframe tbody tr th:only-of-type {\n",
              "        vertical-align: middle;\n",
              "    }\n",
              "\n",
              "    .dataframe tbody tr th {\n",
              "        vertical-align: top;\n",
              "    }\n",
              "\n",
              "    .dataframe thead th {\n",
              "        text-align: right;\n",
              "    }\n",
              "</style>\n",
              "<table border=\"1\" class=\"dataframe\">\n",
              "  <thead>\n",
              "    <tr style=\"text-align: right;\">\n",
              "      <th></th>\n",
              "      <th>Date</th>\n",
              "      <th>product</th>\n",
              "      <th>Quantity</th>\n",
              "      <th>Quantity_lag_1</th>\n",
              "      <th>Quantity_lag_2</th>\n",
              "      <th>Quantity_lag_3</th>\n",
              "      <th>Quantity_lag_4</th>\n",
              "      <th>Quantity_lag_5</th>\n",
              "      <th>Quantity_lag_6</th>\n",
              "      <th>Quantity_lag_7</th>\n",
              "      <th>...</th>\n",
              "      <th>Quantity_lag_21</th>\n",
              "      <th>Quantity_lag_22</th>\n",
              "      <th>Quantity_lag_23</th>\n",
              "      <th>Quantity_lag_24</th>\n",
              "      <th>Quantity_lag_25</th>\n",
              "      <th>Quantity_lag_26</th>\n",
              "      <th>Quantity_lag_27</th>\n",
              "      <th>Quantity_lag_28</th>\n",
              "      <th>Quantity_lag_29</th>\n",
              "      <th>Quantity_lag_30</th>\n",
              "    </tr>\n",
              "  </thead>\n",
              "  <tbody>\n",
              "    <tr>\n",
              "      <th>0</th>\n",
              "      <td>2022-06-30</td>\n",
              "      <td>34636806_23752</td>\n",
              "      <td>1200</td>\n",
              "      <td>NaN</td>\n",
              "      <td>NaN</td>\n",
              "      <td>NaN</td>\n",
              "      <td>NaN</td>\n",
              "      <td>NaN</td>\n",
              "      <td>NaN</td>\n",
              "      <td>NaN</td>\n",
              "      <td>...</td>\n",
              "      <td>NaN</td>\n",
              "      <td>NaN</td>\n",
              "      <td>NaN</td>\n",
              "      <td>NaN</td>\n",
              "      <td>NaN</td>\n",
              "      <td>NaN</td>\n",
              "      <td>NaN</td>\n",
              "      <td>NaN</td>\n",
              "      <td>NaN</td>\n",
              "      <td>NaN</td>\n",
              "    </tr>\n",
              "    <tr>\n",
              "      <th>1</th>\n",
              "      <td>2022-06-30</td>\n",
              "      <td>33254127_14014</td>\n",
              "      <td>1200</td>\n",
              "      <td>NaN</td>\n",
              "      <td>NaN</td>\n",
              "      <td>NaN</td>\n",
              "      <td>NaN</td>\n",
              "      <td>NaN</td>\n",
              "      <td>NaN</td>\n",
              "      <td>NaN</td>\n",
              "      <td>...</td>\n",
              "      <td>NaN</td>\n",
              "      <td>NaN</td>\n",
              "      <td>NaN</td>\n",
              "      <td>NaN</td>\n",
              "      <td>NaN</td>\n",
              "      <td>NaN</td>\n",
              "      <td>NaN</td>\n",
              "      <td>NaN</td>\n",
              "      <td>NaN</td>\n",
              "      <td>NaN</td>\n",
              "    </tr>\n",
              "    <tr>\n",
              "      <th>2</th>\n",
              "      <td>2022-06-30</td>\n",
              "      <td>36792027_16578</td>\n",
              "      <td>1200</td>\n",
              "      <td>NaN</td>\n",
              "      <td>NaN</td>\n",
              "      <td>NaN</td>\n",
              "      <td>NaN</td>\n",
              "      <td>NaN</td>\n",
              "      <td>NaN</td>\n",
              "      <td>NaN</td>\n",
              "      <td>...</td>\n",
              "      <td>NaN</td>\n",
              "      <td>NaN</td>\n",
              "      <td>NaN</td>\n",
              "      <td>NaN</td>\n",
              "      <td>NaN</td>\n",
              "      <td>NaN</td>\n",
              "      <td>NaN</td>\n",
              "      <td>NaN</td>\n",
              "      <td>NaN</td>\n",
              "      <td>NaN</td>\n",
              "    </tr>\n",
              "    <tr>\n",
              "      <th>3</th>\n",
              "      <td>2022-06-30</td>\n",
              "      <td>40205586_11910</td>\n",
              "      <td>1200</td>\n",
              "      <td>NaN</td>\n",
              "      <td>NaN</td>\n",
              "      <td>NaN</td>\n",
              "      <td>NaN</td>\n",
              "      <td>NaN</td>\n",
              "      <td>NaN</td>\n",
              "      <td>NaN</td>\n",
              "      <td>...</td>\n",
              "      <td>NaN</td>\n",
              "      <td>NaN</td>\n",
              "      <td>NaN</td>\n",
              "      <td>NaN</td>\n",
              "      <td>NaN</td>\n",
              "      <td>NaN</td>\n",
              "      <td>NaN</td>\n",
              "      <td>NaN</td>\n",
              "      <td>NaN</td>\n",
              "      <td>NaN</td>\n",
              "    </tr>\n",
              "    <tr>\n",
              "      <th>4</th>\n",
              "      <td>2022-06-30</td>\n",
              "      <td>33226635_14014</td>\n",
              "      <td>1200</td>\n",
              "      <td>NaN</td>\n",
              "      <td>NaN</td>\n",
              "      <td>NaN</td>\n",
              "      <td>NaN</td>\n",
              "      <td>NaN</td>\n",
              "      <td>NaN</td>\n",
              "      <td>NaN</td>\n",
              "      <td>...</td>\n",
              "      <td>1068.0</td>\n",
              "      <td>NaN</td>\n",
              "      <td>NaN</td>\n",
              "      <td>NaN</td>\n",
              "      <td>NaN</td>\n",
              "      <td>NaN</td>\n",
              "      <td>NaN</td>\n",
              "      <td>NaN</td>\n",
              "      <td>NaN</td>\n",
              "      <td>NaN</td>\n",
              "    </tr>\n",
              "  </tbody>\n",
              "</table>\n",
              "<p>5 rows × 33 columns</p>\n",
              "</div>\n",
              "      <button class=\"colab-df-convert\" onclick=\"convertToInteractive('df-104ac7d0-fcc3-412c-8e34-1155670fbaad')\"\n",
              "              title=\"Convert this dataframe to an interactive table.\"\n",
              "              style=\"display:none;\">\n",
              "        \n",
              "  <svg xmlns=\"http://www.w3.org/2000/svg\" height=\"24px\"viewBox=\"0 0 24 24\"\n",
              "       width=\"24px\">\n",
              "    <path d=\"M0 0h24v24H0V0z\" fill=\"none\"/>\n",
              "    <path d=\"M18.56 5.44l.94 2.06.94-2.06 2.06-.94-2.06-.94-.94-2.06-.94 2.06-2.06.94zm-11 1L8.5 8.5l.94-2.06 2.06-.94-2.06-.94L8.5 2.5l-.94 2.06-2.06.94zm10 10l.94 2.06.94-2.06 2.06-.94-2.06-.94-.94-2.06-.94 2.06-2.06.94z\"/><path d=\"M17.41 7.96l-1.37-1.37c-.4-.4-.92-.59-1.43-.59-.52 0-1.04.2-1.43.59L10.3 9.45l-7.72 7.72c-.78.78-.78 2.05 0 2.83L4 21.41c.39.39.9.59 1.41.59.51 0 1.02-.2 1.41-.59l7.78-7.78 2.81-2.81c.8-.78.8-2.07 0-2.86zM5.41 20L4 18.59l7.72-7.72 1.47 1.35L5.41 20z\"/>\n",
              "  </svg>\n",
              "      </button>\n",
              "      \n",
              "  <style>\n",
              "    .colab-df-container {\n",
              "      display:flex;\n",
              "      flex-wrap:wrap;\n",
              "      gap: 12px;\n",
              "    }\n",
              "\n",
              "    .colab-df-convert {\n",
              "      background-color: #E8F0FE;\n",
              "      border: none;\n",
              "      border-radius: 50%;\n",
              "      cursor: pointer;\n",
              "      display: none;\n",
              "      fill: #1967D2;\n",
              "      height: 32px;\n",
              "      padding: 0 0 0 0;\n",
              "      width: 32px;\n",
              "    }\n",
              "\n",
              "    .colab-df-convert:hover {\n",
              "      background-color: #E2EBFA;\n",
              "      box-shadow: 0px 1px 2px rgba(60, 64, 67, 0.3), 0px 1px 3px 1px rgba(60, 64, 67, 0.15);\n",
              "      fill: #174EA6;\n",
              "    }\n",
              "\n",
              "    [theme=dark] .colab-df-convert {\n",
              "      background-color: #3B4455;\n",
              "      fill: #D2E3FC;\n",
              "    }\n",
              "\n",
              "    [theme=dark] .colab-df-convert:hover {\n",
              "      background-color: #434B5C;\n",
              "      box-shadow: 0px 1px 3px 1px rgba(0, 0, 0, 0.15);\n",
              "      filter: drop-shadow(0px 1px 2px rgba(0, 0, 0, 0.3));\n",
              "      fill: #FFFFFF;\n",
              "    }\n",
              "  </style>\n",
              "\n",
              "      <script>\n",
              "        const buttonEl =\n",
              "          document.querySelector('#df-104ac7d0-fcc3-412c-8e34-1155670fbaad button.colab-df-convert');\n",
              "        buttonEl.style.display =\n",
              "          google.colab.kernel.accessAllowed ? 'block' : 'none';\n",
              "\n",
              "        async function convertToInteractive(key) {\n",
              "          const element = document.querySelector('#df-104ac7d0-fcc3-412c-8e34-1155670fbaad');\n",
              "          const dataTable =\n",
              "            await google.colab.kernel.invokeFunction('convertToInteractive',\n",
              "                                                     [key], {});\n",
              "          if (!dataTable) return;\n",
              "\n",
              "          const docLinkHtml = 'Like what you see? Visit the ' +\n",
              "            '<a target=\"_blank\" href=https://colab.research.google.com/notebooks/data_table.ipynb>data table notebook</a>'\n",
              "            + ' to learn more about interactive tables.';\n",
              "          element.innerHTML = '';\n",
              "          dataTable['output_type'] = 'display_data';\n",
              "          await google.colab.output.renderOutput(dataTable, element);\n",
              "          const docLink = document.createElement('div');\n",
              "          docLink.innerHTML = docLinkHtml;\n",
              "          element.appendChild(docLink);\n",
              "        }\n",
              "      </script>\n",
              "    </div>\n",
              "  </div>\n",
              "  "
            ]
          },
          "metadata": {},
          "execution_count": 14
        }
      ],
      "source": [
        "# Analizamos los datos iniciales\n",
        "datos_groupby_quan.head()"
      ],
      "id": "5ba41656"
    },
    {
      "cell_type": "code",
      "execution_count": 15,
      "metadata": {
        "id": "71d62740"
      },
      "outputs": [],
      "source": [
        "# Separamos los datos para el entrenamiento y validación de los algoritmos\n",
        "train = datos_groupby_quan[datos_groupby_quan[\"Date\"] <  \"2022-06-01\"].reset_index(drop=True).fillna(-1)\n",
        "train = train[train[\"Date\"] >= train['Date'].min() + np.timedelta64(30, 'D')].reset_index(drop=True)\n",
        "test  = datos_groupby_quan[datos_groupby_quan[\"Date\"] >= \"2022-06-01\"].reset_index(drop=True).fillna(-1)"
      ],
      "id": "71d62740"
    },
    {
      "cell_type": "code",
      "execution_count": 16,
      "metadata": {
        "colab": {
          "base_uri": "https://localhost:8080/",
          "height": 289
        },
        "id": "7803f510",
        "outputId": "d809dfa5-fe12-4567-a437-f4c651cec166"
      },
      "outputs": [
        {
          "output_type": "execute_result",
          "data": {
            "text/plain": [
              "        Date         product  Quantity  Quantity_lag_1  Quantity_lag_2  \\\n",
              "0 2022-06-30  34636806_23752      1200            -1.0            -1.0   \n",
              "1 2022-06-30  33254127_14014      1200            -1.0            -1.0   \n",
              "2 2022-06-30  36792027_16578      1200            -1.0            -1.0   \n",
              "\n",
              "   Quantity_lag_3  Quantity_lag_4  Quantity_lag_5  Quantity_lag_6  \\\n",
              "0            -1.0            -1.0            -1.0            -1.0   \n",
              "1            -1.0            -1.0            -1.0            -1.0   \n",
              "2            -1.0            -1.0            -1.0            -1.0   \n",
              "\n",
              "   Quantity_lag_7  ...  Quantity_lag_21  Quantity_lag_22  Quantity_lag_23  \\\n",
              "0            -1.0  ...             -1.0             -1.0             -1.0   \n",
              "1            -1.0  ...             -1.0             -1.0             -1.0   \n",
              "2            -1.0  ...             -1.0             -1.0             -1.0   \n",
              "\n",
              "   Quantity_lag_24  Quantity_lag_25  Quantity_lag_26  Quantity_lag_27  \\\n",
              "0             -1.0             -1.0             -1.0             -1.0   \n",
              "1             -1.0             -1.0             -1.0             -1.0   \n",
              "2             -1.0             -1.0             -1.0             -1.0   \n",
              "\n",
              "   Quantity_lag_28  Quantity_lag_29  Quantity_lag_30  \n",
              "0             -1.0             -1.0             -1.0  \n",
              "1             -1.0             -1.0             -1.0  \n",
              "2             -1.0             -1.0             -1.0  \n",
              "\n",
              "[3 rows x 33 columns]"
            ],
            "text/html": [
              "\n",
              "  <div id=\"df-423bd9d3-dea1-44b4-84a2-5b272759aa72\">\n",
              "    <div class=\"colab-df-container\">\n",
              "      <div>\n",
              "<style scoped>\n",
              "    .dataframe tbody tr th:only-of-type {\n",
              "        vertical-align: middle;\n",
              "    }\n",
              "\n",
              "    .dataframe tbody tr th {\n",
              "        vertical-align: top;\n",
              "    }\n",
              "\n",
              "    .dataframe thead th {\n",
              "        text-align: right;\n",
              "    }\n",
              "</style>\n",
              "<table border=\"1\" class=\"dataframe\">\n",
              "  <thead>\n",
              "    <tr style=\"text-align: right;\">\n",
              "      <th></th>\n",
              "      <th>Date</th>\n",
              "      <th>product</th>\n",
              "      <th>Quantity</th>\n",
              "      <th>Quantity_lag_1</th>\n",
              "      <th>Quantity_lag_2</th>\n",
              "      <th>Quantity_lag_3</th>\n",
              "      <th>Quantity_lag_4</th>\n",
              "      <th>Quantity_lag_5</th>\n",
              "      <th>Quantity_lag_6</th>\n",
              "      <th>Quantity_lag_7</th>\n",
              "      <th>...</th>\n",
              "      <th>Quantity_lag_21</th>\n",
              "      <th>Quantity_lag_22</th>\n",
              "      <th>Quantity_lag_23</th>\n",
              "      <th>Quantity_lag_24</th>\n",
              "      <th>Quantity_lag_25</th>\n",
              "      <th>Quantity_lag_26</th>\n",
              "      <th>Quantity_lag_27</th>\n",
              "      <th>Quantity_lag_28</th>\n",
              "      <th>Quantity_lag_29</th>\n",
              "      <th>Quantity_lag_30</th>\n",
              "    </tr>\n",
              "  </thead>\n",
              "  <tbody>\n",
              "    <tr>\n",
              "      <th>0</th>\n",
              "      <td>2022-06-30</td>\n",
              "      <td>34636806_23752</td>\n",
              "      <td>1200</td>\n",
              "      <td>-1.0</td>\n",
              "      <td>-1.0</td>\n",
              "      <td>-1.0</td>\n",
              "      <td>-1.0</td>\n",
              "      <td>-1.0</td>\n",
              "      <td>-1.0</td>\n",
              "      <td>-1.0</td>\n",
              "      <td>...</td>\n",
              "      <td>-1.0</td>\n",
              "      <td>-1.0</td>\n",
              "      <td>-1.0</td>\n",
              "      <td>-1.0</td>\n",
              "      <td>-1.0</td>\n",
              "      <td>-1.0</td>\n",
              "      <td>-1.0</td>\n",
              "      <td>-1.0</td>\n",
              "      <td>-1.0</td>\n",
              "      <td>-1.0</td>\n",
              "    </tr>\n",
              "    <tr>\n",
              "      <th>1</th>\n",
              "      <td>2022-06-30</td>\n",
              "      <td>33254127_14014</td>\n",
              "      <td>1200</td>\n",
              "      <td>-1.0</td>\n",
              "      <td>-1.0</td>\n",
              "      <td>-1.0</td>\n",
              "      <td>-1.0</td>\n",
              "      <td>-1.0</td>\n",
              "      <td>-1.0</td>\n",
              "      <td>-1.0</td>\n",
              "      <td>...</td>\n",
              "      <td>-1.0</td>\n",
              "      <td>-1.0</td>\n",
              "      <td>-1.0</td>\n",
              "      <td>-1.0</td>\n",
              "      <td>-1.0</td>\n",
              "      <td>-1.0</td>\n",
              "      <td>-1.0</td>\n",
              "      <td>-1.0</td>\n",
              "      <td>-1.0</td>\n",
              "      <td>-1.0</td>\n",
              "    </tr>\n",
              "    <tr>\n",
              "      <th>2</th>\n",
              "      <td>2022-06-30</td>\n",
              "      <td>36792027_16578</td>\n",
              "      <td>1200</td>\n",
              "      <td>-1.0</td>\n",
              "      <td>-1.0</td>\n",
              "      <td>-1.0</td>\n",
              "      <td>-1.0</td>\n",
              "      <td>-1.0</td>\n",
              "      <td>-1.0</td>\n",
              "      <td>-1.0</td>\n",
              "      <td>...</td>\n",
              "      <td>-1.0</td>\n",
              "      <td>-1.0</td>\n",
              "      <td>-1.0</td>\n",
              "      <td>-1.0</td>\n",
              "      <td>-1.0</td>\n",
              "      <td>-1.0</td>\n",
              "      <td>-1.0</td>\n",
              "      <td>-1.0</td>\n",
              "      <td>-1.0</td>\n",
              "      <td>-1.0</td>\n",
              "    </tr>\n",
              "  </tbody>\n",
              "</table>\n",
              "<p>3 rows × 33 columns</p>\n",
              "</div>\n",
              "      <button class=\"colab-df-convert\" onclick=\"convertToInteractive('df-423bd9d3-dea1-44b4-84a2-5b272759aa72')\"\n",
              "              title=\"Convert this dataframe to an interactive table.\"\n",
              "              style=\"display:none;\">\n",
              "        \n",
              "  <svg xmlns=\"http://www.w3.org/2000/svg\" height=\"24px\"viewBox=\"0 0 24 24\"\n",
              "       width=\"24px\">\n",
              "    <path d=\"M0 0h24v24H0V0z\" fill=\"none\"/>\n",
              "    <path d=\"M18.56 5.44l.94 2.06.94-2.06 2.06-.94-2.06-.94-.94-2.06-.94 2.06-2.06.94zm-11 1L8.5 8.5l.94-2.06 2.06-.94-2.06-.94L8.5 2.5l-.94 2.06-2.06.94zm10 10l.94 2.06.94-2.06 2.06-.94-2.06-.94-.94-2.06-.94 2.06-2.06.94z\"/><path d=\"M17.41 7.96l-1.37-1.37c-.4-.4-.92-.59-1.43-.59-.52 0-1.04.2-1.43.59L10.3 9.45l-7.72 7.72c-.78.78-.78 2.05 0 2.83L4 21.41c.39.39.9.59 1.41.59.51 0 1.02-.2 1.41-.59l7.78-7.78 2.81-2.81c.8-.78.8-2.07 0-2.86zM5.41 20L4 18.59l7.72-7.72 1.47 1.35L5.41 20z\"/>\n",
              "  </svg>\n",
              "      </button>\n",
              "      \n",
              "  <style>\n",
              "    .colab-df-container {\n",
              "      display:flex;\n",
              "      flex-wrap:wrap;\n",
              "      gap: 12px;\n",
              "    }\n",
              "\n",
              "    .colab-df-convert {\n",
              "      background-color: #E8F0FE;\n",
              "      border: none;\n",
              "      border-radius: 50%;\n",
              "      cursor: pointer;\n",
              "      display: none;\n",
              "      fill: #1967D2;\n",
              "      height: 32px;\n",
              "      padding: 0 0 0 0;\n",
              "      width: 32px;\n",
              "    }\n",
              "\n",
              "    .colab-df-convert:hover {\n",
              "      background-color: #E2EBFA;\n",
              "      box-shadow: 0px 1px 2px rgba(60, 64, 67, 0.3), 0px 1px 3px 1px rgba(60, 64, 67, 0.15);\n",
              "      fill: #174EA6;\n",
              "    }\n",
              "\n",
              "    [theme=dark] .colab-df-convert {\n",
              "      background-color: #3B4455;\n",
              "      fill: #D2E3FC;\n",
              "    }\n",
              "\n",
              "    [theme=dark] .colab-df-convert:hover {\n",
              "      background-color: #434B5C;\n",
              "      box-shadow: 0px 1px 3px 1px rgba(0, 0, 0, 0.15);\n",
              "      filter: drop-shadow(0px 1px 2px rgba(0, 0, 0, 0.3));\n",
              "      fill: #FFFFFF;\n",
              "    }\n",
              "  </style>\n",
              "\n",
              "      <script>\n",
              "        const buttonEl =\n",
              "          document.querySelector('#df-423bd9d3-dea1-44b4-84a2-5b272759aa72 button.colab-df-convert');\n",
              "        buttonEl.style.display =\n",
              "          google.colab.kernel.accessAllowed ? 'block' : 'none';\n",
              "\n",
              "        async function convertToInteractive(key) {\n",
              "          const element = document.querySelector('#df-423bd9d3-dea1-44b4-84a2-5b272759aa72');\n",
              "          const dataTable =\n",
              "            await google.colab.kernel.invokeFunction('convertToInteractive',\n",
              "                                                     [key], {});\n",
              "          if (!dataTable) return;\n",
              "\n",
              "          const docLinkHtml = 'Like what you see? Visit the ' +\n",
              "            '<a target=\"_blank\" href=https://colab.research.google.com/notebooks/data_table.ipynb>data table notebook</a>'\n",
              "            + ' to learn more about interactive tables.';\n",
              "          element.innerHTML = '';\n",
              "          dataTable['output_type'] = 'display_data';\n",
              "          await google.colab.output.renderOutput(dataTable, element);\n",
              "          const docLink = document.createElement('div');\n",
              "          docLink.innerHTML = docLinkHtml;\n",
              "          element.appendChild(docLink);\n",
              "        }\n",
              "      </script>\n",
              "    </div>\n",
              "  </div>\n",
              "  "
            ]
          },
          "metadata": {},
          "execution_count": 16
        }
      ],
      "source": [
        "# Inspeccionamos los primeros registros de los datos de testeo\n",
        "test.head(3)"
      ],
      "id": "7803f510"
    },
    {
      "cell_type": "code",
      "execution_count": 17,
      "metadata": {
        "colab": {
          "base_uri": "https://localhost:8080/",
          "height": 289
        },
        "id": "52089092",
        "outputId": "c999d170-8512-4872-eee3-5bb62c576ce6"
      },
      "outputs": [
        {
          "output_type": "execute_result",
          "data": {
            "text/plain": [
              "        Date         product  Quantity  Quantity_lag_1  Quantity_lag_2  \\\n",
              "0 2022-04-13  33226677_14014      1157            -1.0            -1.0   \n",
              "1 2022-04-27  38306295_16578      1157            -1.0            -1.0   \n",
              "2 2022-05-25   33743865_8156      1157            -1.0            -1.0   \n",
              "\n",
              "   Quantity_lag_3  Quantity_lag_4  Quantity_lag_5  Quantity_lag_6  \\\n",
              "0            -1.0            -1.0            -1.0           890.0   \n",
              "1            -1.0            -1.0            -1.0            -1.0   \n",
              "2            -1.0            -1.0            -1.0            -1.0   \n",
              "\n",
              "   Quantity_lag_7  ...  Quantity_lag_21  Quantity_lag_22  Quantity_lag_23  \\\n",
              "0            -1.0  ...             -1.0             -1.0             -1.0   \n",
              "1            -1.0  ...             -1.0             -1.0             -1.0   \n",
              "2            -1.0  ...             -1.0             -1.0             -1.0   \n",
              "\n",
              "   Quantity_lag_24  Quantity_lag_25  Quantity_lag_26  Quantity_lag_27  \\\n",
              "0             -1.0             -1.0             -1.0             -1.0   \n",
              "1             -1.0             -1.0             -1.0             -1.0   \n",
              "2             -1.0             -1.0             -1.0             -1.0   \n",
              "\n",
              "   Quantity_lag_28  Quantity_lag_29  Quantity_lag_30  \n",
              "0             -1.0             -1.0             -1.0  \n",
              "1             -1.0            178.0             -1.0  \n",
              "2            623.0             -1.0             -1.0  \n",
              "\n",
              "[3 rows x 33 columns]"
            ],
            "text/html": [
              "\n",
              "  <div id=\"df-fbd51c2f-8819-40ac-a4fc-22062ef5cc67\">\n",
              "    <div class=\"colab-df-container\">\n",
              "      <div>\n",
              "<style scoped>\n",
              "    .dataframe tbody tr th:only-of-type {\n",
              "        vertical-align: middle;\n",
              "    }\n",
              "\n",
              "    .dataframe tbody tr th {\n",
              "        vertical-align: top;\n",
              "    }\n",
              "\n",
              "    .dataframe thead th {\n",
              "        text-align: right;\n",
              "    }\n",
              "</style>\n",
              "<table border=\"1\" class=\"dataframe\">\n",
              "  <thead>\n",
              "    <tr style=\"text-align: right;\">\n",
              "      <th></th>\n",
              "      <th>Date</th>\n",
              "      <th>product</th>\n",
              "      <th>Quantity</th>\n",
              "      <th>Quantity_lag_1</th>\n",
              "      <th>Quantity_lag_2</th>\n",
              "      <th>Quantity_lag_3</th>\n",
              "      <th>Quantity_lag_4</th>\n",
              "      <th>Quantity_lag_5</th>\n",
              "      <th>Quantity_lag_6</th>\n",
              "      <th>Quantity_lag_7</th>\n",
              "      <th>...</th>\n",
              "      <th>Quantity_lag_21</th>\n",
              "      <th>Quantity_lag_22</th>\n",
              "      <th>Quantity_lag_23</th>\n",
              "      <th>Quantity_lag_24</th>\n",
              "      <th>Quantity_lag_25</th>\n",
              "      <th>Quantity_lag_26</th>\n",
              "      <th>Quantity_lag_27</th>\n",
              "      <th>Quantity_lag_28</th>\n",
              "      <th>Quantity_lag_29</th>\n",
              "      <th>Quantity_lag_30</th>\n",
              "    </tr>\n",
              "  </thead>\n",
              "  <tbody>\n",
              "    <tr>\n",
              "      <th>0</th>\n",
              "      <td>2022-04-13</td>\n",
              "      <td>33226677_14014</td>\n",
              "      <td>1157</td>\n",
              "      <td>-1.0</td>\n",
              "      <td>-1.0</td>\n",
              "      <td>-1.0</td>\n",
              "      <td>-1.0</td>\n",
              "      <td>-1.0</td>\n",
              "      <td>890.0</td>\n",
              "      <td>-1.0</td>\n",
              "      <td>...</td>\n",
              "      <td>-1.0</td>\n",
              "      <td>-1.0</td>\n",
              "      <td>-1.0</td>\n",
              "      <td>-1.0</td>\n",
              "      <td>-1.0</td>\n",
              "      <td>-1.0</td>\n",
              "      <td>-1.0</td>\n",
              "      <td>-1.0</td>\n",
              "      <td>-1.0</td>\n",
              "      <td>-1.0</td>\n",
              "    </tr>\n",
              "    <tr>\n",
              "      <th>1</th>\n",
              "      <td>2022-04-27</td>\n",
              "      <td>38306295_16578</td>\n",
              "      <td>1157</td>\n",
              "      <td>-1.0</td>\n",
              "      <td>-1.0</td>\n",
              "      <td>-1.0</td>\n",
              "      <td>-1.0</td>\n",
              "      <td>-1.0</td>\n",
              "      <td>-1.0</td>\n",
              "      <td>-1.0</td>\n",
              "      <td>...</td>\n",
              "      <td>-1.0</td>\n",
              "      <td>-1.0</td>\n",
              "      <td>-1.0</td>\n",
              "      <td>-1.0</td>\n",
              "      <td>-1.0</td>\n",
              "      <td>-1.0</td>\n",
              "      <td>-1.0</td>\n",
              "      <td>-1.0</td>\n",
              "      <td>178.0</td>\n",
              "      <td>-1.0</td>\n",
              "    </tr>\n",
              "    <tr>\n",
              "      <th>2</th>\n",
              "      <td>2022-05-25</td>\n",
              "      <td>33743865_8156</td>\n",
              "      <td>1157</td>\n",
              "      <td>-1.0</td>\n",
              "      <td>-1.0</td>\n",
              "      <td>-1.0</td>\n",
              "      <td>-1.0</td>\n",
              "      <td>-1.0</td>\n",
              "      <td>-1.0</td>\n",
              "      <td>-1.0</td>\n",
              "      <td>...</td>\n",
              "      <td>-1.0</td>\n",
              "      <td>-1.0</td>\n",
              "      <td>-1.0</td>\n",
              "      <td>-1.0</td>\n",
              "      <td>-1.0</td>\n",
              "      <td>-1.0</td>\n",
              "      <td>-1.0</td>\n",
              "      <td>623.0</td>\n",
              "      <td>-1.0</td>\n",
              "      <td>-1.0</td>\n",
              "    </tr>\n",
              "  </tbody>\n",
              "</table>\n",
              "<p>3 rows × 33 columns</p>\n",
              "</div>\n",
              "      <button class=\"colab-df-convert\" onclick=\"convertToInteractive('df-fbd51c2f-8819-40ac-a4fc-22062ef5cc67')\"\n",
              "              title=\"Convert this dataframe to an interactive table.\"\n",
              "              style=\"display:none;\">\n",
              "        \n",
              "  <svg xmlns=\"http://www.w3.org/2000/svg\" height=\"24px\"viewBox=\"0 0 24 24\"\n",
              "       width=\"24px\">\n",
              "    <path d=\"M0 0h24v24H0V0z\" fill=\"none\"/>\n",
              "    <path d=\"M18.56 5.44l.94 2.06.94-2.06 2.06-.94-2.06-.94-.94-2.06-.94 2.06-2.06.94zm-11 1L8.5 8.5l.94-2.06 2.06-.94-2.06-.94L8.5 2.5l-.94 2.06-2.06.94zm10 10l.94 2.06.94-2.06 2.06-.94-2.06-.94-.94-2.06-.94 2.06-2.06.94z\"/><path d=\"M17.41 7.96l-1.37-1.37c-.4-.4-.92-.59-1.43-.59-.52 0-1.04.2-1.43.59L10.3 9.45l-7.72 7.72c-.78.78-.78 2.05 0 2.83L4 21.41c.39.39.9.59 1.41.59.51 0 1.02-.2 1.41-.59l7.78-7.78 2.81-2.81c.8-.78.8-2.07 0-2.86zM5.41 20L4 18.59l7.72-7.72 1.47 1.35L5.41 20z\"/>\n",
              "  </svg>\n",
              "      </button>\n",
              "      \n",
              "  <style>\n",
              "    .colab-df-container {\n",
              "      display:flex;\n",
              "      flex-wrap:wrap;\n",
              "      gap: 12px;\n",
              "    }\n",
              "\n",
              "    .colab-df-convert {\n",
              "      background-color: #E8F0FE;\n",
              "      border: none;\n",
              "      border-radius: 50%;\n",
              "      cursor: pointer;\n",
              "      display: none;\n",
              "      fill: #1967D2;\n",
              "      height: 32px;\n",
              "      padding: 0 0 0 0;\n",
              "      width: 32px;\n",
              "    }\n",
              "\n",
              "    .colab-df-convert:hover {\n",
              "      background-color: #E2EBFA;\n",
              "      box-shadow: 0px 1px 2px rgba(60, 64, 67, 0.3), 0px 1px 3px 1px rgba(60, 64, 67, 0.15);\n",
              "      fill: #174EA6;\n",
              "    }\n",
              "\n",
              "    [theme=dark] .colab-df-convert {\n",
              "      background-color: #3B4455;\n",
              "      fill: #D2E3FC;\n",
              "    }\n",
              "\n",
              "    [theme=dark] .colab-df-convert:hover {\n",
              "      background-color: #434B5C;\n",
              "      box-shadow: 0px 1px 3px 1px rgba(0, 0, 0, 0.15);\n",
              "      filter: drop-shadow(0px 1px 2px rgba(0, 0, 0, 0.3));\n",
              "      fill: #FFFFFF;\n",
              "    }\n",
              "  </style>\n",
              "\n",
              "      <script>\n",
              "        const buttonEl =\n",
              "          document.querySelector('#df-fbd51c2f-8819-40ac-a4fc-22062ef5cc67 button.colab-df-convert');\n",
              "        buttonEl.style.display =\n",
              "          google.colab.kernel.accessAllowed ? 'block' : 'none';\n",
              "\n",
              "        async function convertToInteractive(key) {\n",
              "          const element = document.querySelector('#df-fbd51c2f-8819-40ac-a4fc-22062ef5cc67');\n",
              "          const dataTable =\n",
              "            await google.colab.kernel.invokeFunction('convertToInteractive',\n",
              "                                                     [key], {});\n",
              "          if (!dataTable) return;\n",
              "\n",
              "          const docLinkHtml = 'Like what you see? Visit the ' +\n",
              "            '<a target=\"_blank\" href=https://colab.research.google.com/notebooks/data_table.ipynb>data table notebook</a>'\n",
              "            + ' to learn more about interactive tables.';\n",
              "          element.innerHTML = '';\n",
              "          dataTable['output_type'] = 'display_data';\n",
              "          await google.colab.output.renderOutput(dataTable, element);\n",
              "          const docLink = document.createElement('div');\n",
              "          docLink.innerHTML = docLinkHtml;\n",
              "          element.appendChild(docLink);\n",
              "        }\n",
              "      </script>\n",
              "    </div>\n",
              "  </div>\n",
              "  "
            ]
          },
          "metadata": {},
          "execution_count": 17
        }
      ],
      "source": [
        "# Inspeccionamos los primeros registros de los datos de entrenamiento\n",
        "train.head(3)"
      ],
      "id": "52089092"
    },
    {
      "cell_type": "code",
      "execution_count": 18,
      "metadata": {
        "colab": {
          "base_uri": "https://localhost:8080/"
        },
        "id": "05ff2f4b",
        "outputId": "ae582c83-018a-4612-efb2-97abb3a42bbd"
      },
      "outputs": [
        {
          "output_type": "execute_result",
          "data": {
            "text/plain": [
              "((650363, 33), (154360, 33))"
            ]
          },
          "metadata": {},
          "execution_count": 18
        }
      ],
      "source": [
        "# Validamos la volumetría de los datos\n",
        "train.shape, test.shape"
      ],
      "id": "05ff2f4b"
    },
    {
      "cell_type": "code",
      "execution_count": 19,
      "metadata": {
        "id": "b1343cc3"
      },
      "outputs": [],
      "source": [
        "# Variables analizables\n",
        "test_keys = test[[\"Date\", \"product\", \"Quantity\"]]"
      ],
      "id": "b1343cc3"
    },
    {
      "cell_type": "code",
      "execution_count": 20,
      "metadata": {
        "id": "005f70d4"
      },
      "outputs": [],
      "source": [
        "# Datos de entrenamiento y validación\n",
        "X_train = train.filter(regex='^Quantity_lag')\n",
        "y_train = train[\"Quantity\"]\n",
        "\n",
        "\n",
        "X_test  = test.filter(regex='^Quantity_lag')\n",
        "y_test  = test[\"Quantity\"]"
      ],
      "id": "005f70d4"
    },
    {
      "cell_type": "markdown",
      "metadata": {
        "id": "BQLDTizKfHSE"
      },
      "source": [
        "## [3] Entrenamiento del algoritmo"
      ],
      "id": "BQLDTizKfHSE"
    },
    {
      "cell_type": "code",
      "execution_count": 21,
      "metadata": {
        "id": "ee13ede2"
      },
      "outputs": [],
      "source": [
        "# Definimos los datasets necesarios para entrenar / validar un algoritmo LightGBM\n",
        "dtrain = lgb.Dataset(pd.DataFrame(X_train), pd.DataFrame(y_train))\n",
        "dtest = lgb.Dataset(pd.DataFrame(X_test), pd.DataFrame(y_test), reference=dtrain)"
      ],
      "id": "ee13ede2"
    },
    {
      "cell_type": "code",
      "execution_count": 22,
      "metadata": {
        "id": "f16974c2"
      },
      "outputs": [],
      "source": [
        "# Definimos los parámetros del algoritmo\n",
        "params = {'task': 'train',\n",
        " 'is_unbalance': False,\n",
        " 'boosting_type': 'gbdt', # \"dart\" \"gbdt\"\n",
        " 'objective': 'regression',\n",
        " 'metric': 'rmse',\n",
        " 'learning_rate': 0.01,\n",
        " 'verbose': -1,\n",
        " 'seed': 2023,\n",
        " 'bagging_fraction': 0.85,\n",
        " 'bagging_freq': 3,\n",
        " 'feature_fraction': 0.85,\n",
        " 'lambda_l1': 0.76,\n",
        " 'lambda_l2': 0.21,\n",
        " 'max_depth': 5,\n",
        " 'min_data_in_leaf': 50,\n",
        " 'num_leaves': 25,\n",
        " 'weight': 1.24}"
      ],
      "id": "f16974c2"
    },
    {
      "cell_type": "code",
      "execution_count": 23,
      "metadata": {
        "colab": {
          "base_uri": "https://localhost:8080/"
        },
        "id": "1e079642",
        "outputId": "6c66ea03-bc7c-4e83-ca89-8bca609efd8a"
      },
      "outputs": [
        {
          "output_type": "stream",
          "name": "stderr",
          "text": [
            "/usr/local/lib/python3.10/dist-packages/lightgbm/engine.py:181: UserWarning: 'early_stopping_rounds' argument is deprecated and will be removed in a future release of LightGBM. Pass 'early_stopping()' callback via 'callbacks' argument instead.\n",
            "  _log_warning(\"'early_stopping_rounds' argument is deprecated and will be removed in a future release of LightGBM. \"\n",
            "/usr/local/lib/python3.10/dist-packages/lightgbm/engine.py:239: UserWarning: 'verbose_eval' argument is deprecated and will be removed in a future release of LightGBM. Pass 'log_evaluation()' callback via 'callbacks' argument instead.\n",
            "  _log_warning(\"'verbose_eval' argument is deprecated and will be removed in a future release of LightGBM. \"\n",
            "/usr/local/lib/python3.10/dist-packages/lightgbm/basic.py:1487: UserWarning: weight keyword has been found in `params` and will be ignored.\n",
            "Please use weight argument of the Dataset constructor to pass this parameter.\n",
            "  _log_warning(f'{key} keyword has been found in `params` and will be ignored.\\n'\n",
            "/usr/local/lib/python3.10/dist-packages/lightgbm/basic.py:1487: UserWarning: weight keyword has been found in `params` and will be ignored.\n",
            "Please use weight argument of the Dataset constructor to pass this parameter.\n",
            "  _log_warning(f'{key} keyword has been found in `params` and will be ignored.\\n'\n"
          ]
        },
        {
          "output_type": "stream",
          "name": "stdout",
          "text": [
            "Training until validation scores don't improve for 200 rounds\n",
            "[100]\ttraining's rmse: 240.819\tvalid_1's rmse: 227.173\n",
            "[200]\ttraining's rmse: 233.672\tvalid_1's rmse: 220.043\n",
            "[300]\ttraining's rmse: 230.077\tvalid_1's rmse: 216.679\n",
            "[400]\ttraining's rmse: 227.712\tvalid_1's rmse: 214.51\n",
            "[500]\ttraining's rmse: 226.089\tvalid_1's rmse: 213.017\n",
            "[600]\ttraining's rmse: 224.851\tvalid_1's rmse: 211.902\n",
            "[700]\ttraining's rmse: 223.822\tvalid_1's rmse: 210.993\n",
            "[800]\ttraining's rmse: 222.874\tvalid_1's rmse: 210.147\n",
            "[900]\ttraining's rmse: 222.169\tvalid_1's rmse: 209.557\n",
            "[1000]\ttraining's rmse: 221.506\tvalid_1's rmse: 208.978\n",
            "[1100]\ttraining's rmse: 220.957\tvalid_1's rmse: 208.509\n",
            "[1200]\ttraining's rmse: 220.458\tvalid_1's rmse: 208.097\n",
            "[1300]\ttraining's rmse: 220.058\tvalid_1's rmse: 207.789\n",
            "[1400]\ttraining's rmse: 219.714\tvalid_1's rmse: 207.517\n",
            "[1500]\ttraining's rmse: 219.423\tvalid_1's rmse: 207.293\n",
            "[1600]\ttraining's rmse: 219.163\tvalid_1's rmse: 207.091\n",
            "[1700]\ttraining's rmse: 218.946\tvalid_1's rmse: 206.934\n",
            "[1800]\ttraining's rmse: 218.748\tvalid_1's rmse: 206.787\n",
            "[1900]\ttraining's rmse: 218.572\tvalid_1's rmse: 206.654\n",
            "[2000]\ttraining's rmse: 218.429\tvalid_1's rmse: 206.548\n",
            "Did not meet early stopping. Best iteration is:\n",
            "[2000]\ttraining's rmse: 218.429\tvalid_1's rmse: 206.548\n"
          ]
        }
      ],
      "source": [
        "# Entrenamos el algoritmo\n",
        "gbm = lgb.train(params,\n",
        "                dtrain,\n",
        "                verbose_eval = 100,\n",
        "                num_boost_round = 2000,\n",
        "                valid_sets=[dtrain,dtest],\n",
        "                early_stopping_rounds=200)"
      ],
      "id": "1e079642"
    },
    {
      "cell_type": "code",
      "execution_count": 24,
      "metadata": {
        "id": "c57a3e97"
      },
      "outputs": [],
      "source": [
        "# Importancia variables\n",
        "importancia=gbm.feature_importance(importance_type='gain')"
      ],
      "id": "c57a3e97"
    },
    {
      "cell_type": "code",
      "source": [
        "# Guardamos el modelo\n",
        "filename = '/gdrive/My Drive/AB_InBev/models/finalized_model.sav'\n",
        "pickle.dump(gbm, open(filename, 'wb'))"
      ],
      "metadata": {
        "id": "H6YQzJSEaqPw"
      },
      "id": "H6YQzJSEaqPw",
      "execution_count": 25,
      "outputs": []
    },
    {
      "cell_type": "markdown",
      "metadata": {
        "id": "opUQ25DVfQRE"
      },
      "source": [
        "## [4] Validación del algoritmo"
      ],
      "id": "opUQ25DVfQRE"
    },
    {
      "cell_type": "code",
      "execution_count": 26,
      "metadata": {
        "id": "42211281"
      },
      "outputs": [],
      "source": [
        "# Scoring de los datos de testeo\n",
        "scoreo = gbm.predict(pd.DataFrame(X_test), ntree_limit=gbm.best_iteration)"
      ],
      "id": "42211281"
    },
    {
      "cell_type": "code",
      "execution_count": 28,
      "metadata": {
        "colab": {
          "base_uri": "https://localhost:8080/"
        },
        "id": "3c807851",
        "outputId": "4b821a37-7643-47c8-a5a4-61ea84701eee"
      },
      "outputs": [
        {
          "output_type": "stream",
          "name": "stderr",
          "text": [
            "<ipython-input-28-c4e54c26d77a>:2: SettingWithCopyWarning: \n",
            "A value is trying to be set on a copy of a slice from a DataFrame.\n",
            "Try using .loc[row_indexer,col_indexer] = value instead\n",
            "\n",
            "See the caveats in the documentation: https://pandas.pydata.org/pandas-docs/stable/user_guide/indexing.html#returning-a-view-versus-a-copy\n",
            "  test_keys[\"y_pred\"] = scoreo\n"
          ]
        }
      ],
      "source": [
        "# Incluímos la variable predicha\n",
        "test_keys[\"y_pred\"] = scoreo"
      ],
      "id": "3c807851"
    },
    {
      "cell_type": "code",
      "execution_count": 29,
      "metadata": {
        "id": "557e270d"
      },
      "outputs": [],
      "source": [
        "def mape(y_true, y_pred):\n",
        "    n = len(y_true)\n",
        "    return 100 * (1/n) * np.sum(np.abs((y_true - y_pred) / y_true))"
      ],
      "id": "557e270d"
    },
    {
      "cell_type": "code",
      "execution_count": 30,
      "metadata": {
        "id": "ad7be744"
      },
      "outputs": [],
      "source": [
        "products = test_keys[\"product\"].unique().tolist()\n",
        "mapes = []"
      ],
      "id": "ad7be744"
    },
    {
      "cell_type": "code",
      "execution_count": 31,
      "metadata": {
        "colab": {
          "base_uri": "https://localhost:8080/"
        },
        "id": "v0Wktv8phImJ",
        "outputId": "562c043b-89f6-494c-b1a8-f5f82b62c508"
      },
      "outputs": [
        {
          "output_type": "stream",
          "name": "stderr",
          "text": [
            "100%|██████████| 105197/105197 [2:10:08<00:00, 13.47it/s]\n"
          ]
        }
      ],
      "source": [
        "for product in tqdm(products):\n",
        "      mapes.append(mape(test_keys[test_keys[\"product\"] == product][\"Quantity\"],\n",
        "                        test_keys[test_keys[\"product\"] == product][\"y_pred\"]))"
      ],
      "id": "v0Wktv8phImJ"
    },
    {
      "cell_type": "code",
      "execution_count": 32,
      "metadata": {
        "id": "0943180f"
      },
      "outputs": [],
      "source": [
        "result = pd.concat([pd.DataFrame({\"product\": products}), pd.DataFrame({\"MAPE\":mapes})], axis = 1) \\\n",
        "                    .sort_values(by = \"MAPE\") \\\n",
        "                    .reset_index(drop=True)"
      ],
      "id": "0943180f"
    },
    {
      "cell_type": "code",
      "execution_count": 33,
      "metadata": {
        "id": "1296b777"
      },
      "outputs": [],
      "source": [
        "# Exportamos los datos\n",
        "result.to_csv('/gdrive/My Drive/AB_InBev/datos/data_mapes_df.csv',index=False)"
      ],
      "id": "1296b777"
    },
    {
      "cell_type": "code",
      "execution_count": 5,
      "metadata": {
        "id": "b3060852",
        "colab": {
          "base_uri": "https://localhost:8080/",
          "height": 206
        },
        "outputId": "64865bc6-074c-40db-c9c6-a8b0e4655913"
      },
      "outputs": [
        {
          "output_type": "execute_result",
          "data": {
            "text/plain": [
              "          product      MAPE\n",
              "0  33231594_14014  0.021843\n",
              "1  33973395_11910  0.021843\n",
              "2   33221382_8262  0.021843\n",
              "3  33252462_14014  0.021843\n",
              "4   34207521_8350  0.021843"
            ],
            "text/html": [
              "\n",
              "  <div id=\"df-5b310b64-d1d1-4d06-b7d9-267bfebcb73b\">\n",
              "    <div class=\"colab-df-container\">\n",
              "      <div>\n",
              "<style scoped>\n",
              "    .dataframe tbody tr th:only-of-type {\n",
              "        vertical-align: middle;\n",
              "    }\n",
              "\n",
              "    .dataframe tbody tr th {\n",
              "        vertical-align: top;\n",
              "    }\n",
              "\n",
              "    .dataframe thead th {\n",
              "        text-align: right;\n",
              "    }\n",
              "</style>\n",
              "<table border=\"1\" class=\"dataframe\">\n",
              "  <thead>\n",
              "    <tr style=\"text-align: right;\">\n",
              "      <th></th>\n",
              "      <th>product</th>\n",
              "      <th>MAPE</th>\n",
              "    </tr>\n",
              "  </thead>\n",
              "  <tbody>\n",
              "    <tr>\n",
              "      <th>0</th>\n",
              "      <td>33231594_14014</td>\n",
              "      <td>0.021843</td>\n",
              "    </tr>\n",
              "    <tr>\n",
              "      <th>1</th>\n",
              "      <td>33973395_11910</td>\n",
              "      <td>0.021843</td>\n",
              "    </tr>\n",
              "    <tr>\n",
              "      <th>2</th>\n",
              "      <td>33221382_8262</td>\n",
              "      <td>0.021843</td>\n",
              "    </tr>\n",
              "    <tr>\n",
              "      <th>3</th>\n",
              "      <td>33252462_14014</td>\n",
              "      <td>0.021843</td>\n",
              "    </tr>\n",
              "    <tr>\n",
              "      <th>4</th>\n",
              "      <td>34207521_8350</td>\n",
              "      <td>0.021843</td>\n",
              "    </tr>\n",
              "  </tbody>\n",
              "</table>\n",
              "</div>\n",
              "      <button class=\"colab-df-convert\" onclick=\"convertToInteractive('df-5b310b64-d1d1-4d06-b7d9-267bfebcb73b')\"\n",
              "              title=\"Convert this dataframe to an interactive table.\"\n",
              "              style=\"display:none;\">\n",
              "        \n",
              "  <svg xmlns=\"http://www.w3.org/2000/svg\" height=\"24px\"viewBox=\"0 0 24 24\"\n",
              "       width=\"24px\">\n",
              "    <path d=\"M0 0h24v24H0V0z\" fill=\"none\"/>\n",
              "    <path d=\"M18.56 5.44l.94 2.06.94-2.06 2.06-.94-2.06-.94-.94-2.06-.94 2.06-2.06.94zm-11 1L8.5 8.5l.94-2.06 2.06-.94-2.06-.94L8.5 2.5l-.94 2.06-2.06.94zm10 10l.94 2.06.94-2.06 2.06-.94-2.06-.94-.94-2.06-.94 2.06-2.06.94z\"/><path d=\"M17.41 7.96l-1.37-1.37c-.4-.4-.92-.59-1.43-.59-.52 0-1.04.2-1.43.59L10.3 9.45l-7.72 7.72c-.78.78-.78 2.05 0 2.83L4 21.41c.39.39.9.59 1.41.59.51 0 1.02-.2 1.41-.59l7.78-7.78 2.81-2.81c.8-.78.8-2.07 0-2.86zM5.41 20L4 18.59l7.72-7.72 1.47 1.35L5.41 20z\"/>\n",
              "  </svg>\n",
              "      </button>\n",
              "      \n",
              "  <style>\n",
              "    .colab-df-container {\n",
              "      display:flex;\n",
              "      flex-wrap:wrap;\n",
              "      gap: 12px;\n",
              "    }\n",
              "\n",
              "    .colab-df-convert {\n",
              "      background-color: #E8F0FE;\n",
              "      border: none;\n",
              "      border-radius: 50%;\n",
              "      cursor: pointer;\n",
              "      display: none;\n",
              "      fill: #1967D2;\n",
              "      height: 32px;\n",
              "      padding: 0 0 0 0;\n",
              "      width: 32px;\n",
              "    }\n",
              "\n",
              "    .colab-df-convert:hover {\n",
              "      background-color: #E2EBFA;\n",
              "      box-shadow: 0px 1px 2px rgba(60, 64, 67, 0.3), 0px 1px 3px 1px rgba(60, 64, 67, 0.15);\n",
              "      fill: #174EA6;\n",
              "    }\n",
              "\n",
              "    [theme=dark] .colab-df-convert {\n",
              "      background-color: #3B4455;\n",
              "      fill: #D2E3FC;\n",
              "    }\n",
              "\n",
              "    [theme=dark] .colab-df-convert:hover {\n",
              "      background-color: #434B5C;\n",
              "      box-shadow: 0px 1px 3px 1px rgba(0, 0, 0, 0.15);\n",
              "      filter: drop-shadow(0px 1px 2px rgba(0, 0, 0, 0.3));\n",
              "      fill: #FFFFFF;\n",
              "    }\n",
              "  </style>\n",
              "\n",
              "      <script>\n",
              "        const buttonEl =\n",
              "          document.querySelector('#df-5b310b64-d1d1-4d06-b7d9-267bfebcb73b button.colab-df-convert');\n",
              "        buttonEl.style.display =\n",
              "          google.colab.kernel.accessAllowed ? 'block' : 'none';\n",
              "\n",
              "        async function convertToInteractive(key) {\n",
              "          const element = document.querySelector('#df-5b310b64-d1d1-4d06-b7d9-267bfebcb73b');\n",
              "          const dataTable =\n",
              "            await google.colab.kernel.invokeFunction('convertToInteractive',\n",
              "                                                     [key], {});\n",
              "          if (!dataTable) return;\n",
              "\n",
              "          const docLinkHtml = 'Like what you see? Visit the ' +\n",
              "            '<a target=\"_blank\" href=https://colab.research.google.com/notebooks/data_table.ipynb>data table notebook</a>'\n",
              "            + ' to learn more about interactive tables.';\n",
              "          element.innerHTML = '';\n",
              "          dataTable['output_type'] = 'display_data';\n",
              "          await google.colab.output.renderOutput(dataTable, element);\n",
              "          const docLink = document.createElement('div');\n",
              "          docLink.innerHTML = docLinkHtml;\n",
              "          element.appendChild(docLink);\n",
              "        }\n",
              "      </script>\n",
              "    </div>\n",
              "  </div>\n",
              "  "
            ]
          },
          "metadata": {},
          "execution_count": 5
        }
      ],
      "source": [
        "# Evaluamos los primeros resultados\n",
        "result.head(5)"
      ],
      "id": "b3060852"
    },
    {
      "cell_type": "code",
      "execution_count": 7,
      "metadata": {
        "id": "5a7c710e",
        "colab": {
          "base_uri": "https://localhost:8080/",
          "height": 81
        },
        "outputId": "e8a54222-c9a7-4668-da18-f584076e59df"
      },
      "outputs": [
        {
          "output_type": "execute_result",
          "data": {
            "text/plain": [
              "         count  mean  std       min        25%        50%         75%  max\n",
              "MAPE  105197.0   inf  NaN  0.021843  40.045317  70.022659  199.773415  inf"
            ],
            "text/html": [
              "\n",
              "  <div id=\"df-571f9f8d-3e3c-4c58-8c46-67fc4765af3a\">\n",
              "    <div class=\"colab-df-container\">\n",
              "      <div>\n",
              "<style scoped>\n",
              "    .dataframe tbody tr th:only-of-type {\n",
              "        vertical-align: middle;\n",
              "    }\n",
              "\n",
              "    .dataframe tbody tr th {\n",
              "        vertical-align: top;\n",
              "    }\n",
              "\n",
              "    .dataframe thead th {\n",
              "        text-align: right;\n",
              "    }\n",
              "</style>\n",
              "<table border=\"1\" class=\"dataframe\">\n",
              "  <thead>\n",
              "    <tr style=\"text-align: right;\">\n",
              "      <th></th>\n",
              "      <th>count</th>\n",
              "      <th>mean</th>\n",
              "      <th>std</th>\n",
              "      <th>min</th>\n",
              "      <th>25%</th>\n",
              "      <th>50%</th>\n",
              "      <th>75%</th>\n",
              "      <th>max</th>\n",
              "    </tr>\n",
              "  </thead>\n",
              "  <tbody>\n",
              "    <tr>\n",
              "      <th>MAPE</th>\n",
              "      <td>105197.0</td>\n",
              "      <td>inf</td>\n",
              "      <td>NaN</td>\n",
              "      <td>0.021843</td>\n",
              "      <td>40.045317</td>\n",
              "      <td>70.022659</td>\n",
              "      <td>199.773415</td>\n",
              "      <td>inf</td>\n",
              "    </tr>\n",
              "  </tbody>\n",
              "</table>\n",
              "</div>\n",
              "      <button class=\"colab-df-convert\" onclick=\"convertToInteractive('df-571f9f8d-3e3c-4c58-8c46-67fc4765af3a')\"\n",
              "              title=\"Convert this dataframe to an interactive table.\"\n",
              "              style=\"display:none;\">\n",
              "        \n",
              "  <svg xmlns=\"http://www.w3.org/2000/svg\" height=\"24px\"viewBox=\"0 0 24 24\"\n",
              "       width=\"24px\">\n",
              "    <path d=\"M0 0h24v24H0V0z\" fill=\"none\"/>\n",
              "    <path d=\"M18.56 5.44l.94 2.06.94-2.06 2.06-.94-2.06-.94-.94-2.06-.94 2.06-2.06.94zm-11 1L8.5 8.5l.94-2.06 2.06-.94-2.06-.94L8.5 2.5l-.94 2.06-2.06.94zm10 10l.94 2.06.94-2.06 2.06-.94-2.06-.94-.94-2.06-.94 2.06-2.06.94z\"/><path d=\"M17.41 7.96l-1.37-1.37c-.4-.4-.92-.59-1.43-.59-.52 0-1.04.2-1.43.59L10.3 9.45l-7.72 7.72c-.78.78-.78 2.05 0 2.83L4 21.41c.39.39.9.59 1.41.59.51 0 1.02-.2 1.41-.59l7.78-7.78 2.81-2.81c.8-.78.8-2.07 0-2.86zM5.41 20L4 18.59l7.72-7.72 1.47 1.35L5.41 20z\"/>\n",
              "  </svg>\n",
              "      </button>\n",
              "      \n",
              "  <style>\n",
              "    .colab-df-container {\n",
              "      display:flex;\n",
              "      flex-wrap:wrap;\n",
              "      gap: 12px;\n",
              "    }\n",
              "\n",
              "    .colab-df-convert {\n",
              "      background-color: #E8F0FE;\n",
              "      border: none;\n",
              "      border-radius: 50%;\n",
              "      cursor: pointer;\n",
              "      display: none;\n",
              "      fill: #1967D2;\n",
              "      height: 32px;\n",
              "      padding: 0 0 0 0;\n",
              "      width: 32px;\n",
              "    }\n",
              "\n",
              "    .colab-df-convert:hover {\n",
              "      background-color: #E2EBFA;\n",
              "      box-shadow: 0px 1px 2px rgba(60, 64, 67, 0.3), 0px 1px 3px 1px rgba(60, 64, 67, 0.15);\n",
              "      fill: #174EA6;\n",
              "    }\n",
              "\n",
              "    [theme=dark] .colab-df-convert {\n",
              "      background-color: #3B4455;\n",
              "      fill: #D2E3FC;\n",
              "    }\n",
              "\n",
              "    [theme=dark] .colab-df-convert:hover {\n",
              "      background-color: #434B5C;\n",
              "      box-shadow: 0px 1px 3px 1px rgba(0, 0, 0, 0.15);\n",
              "      filter: drop-shadow(0px 1px 2px rgba(0, 0, 0, 0.3));\n",
              "      fill: #FFFFFF;\n",
              "    }\n",
              "  </style>\n",
              "\n",
              "      <script>\n",
              "        const buttonEl =\n",
              "          document.querySelector('#df-571f9f8d-3e3c-4c58-8c46-67fc4765af3a button.colab-df-convert');\n",
              "        buttonEl.style.display =\n",
              "          google.colab.kernel.accessAllowed ? 'block' : 'none';\n",
              "\n",
              "        async function convertToInteractive(key) {\n",
              "          const element = document.querySelector('#df-571f9f8d-3e3c-4c58-8c46-67fc4765af3a');\n",
              "          const dataTable =\n",
              "            await google.colab.kernel.invokeFunction('convertToInteractive',\n",
              "                                                     [key], {});\n",
              "          if (!dataTable) return;\n",
              "\n",
              "          const docLinkHtml = 'Like what you see? Visit the ' +\n",
              "            '<a target=\"_blank\" href=https://colab.research.google.com/notebooks/data_table.ipynb>data table notebook</a>'\n",
              "            + ' to learn more about interactive tables.';\n",
              "          element.innerHTML = '';\n",
              "          dataTable['output_type'] = 'display_data';\n",
              "          await google.colab.output.renderOutput(dataTable, element);\n",
              "          const docLink = document.createElement('div');\n",
              "          docLink.innerHTML = docLinkHtml;\n",
              "          element.appendChild(docLink);\n",
              "        }\n",
              "      </script>\n",
              "    </div>\n",
              "  </div>\n",
              "  "
            ]
          },
          "metadata": {},
          "execution_count": 7
        }
      ],
      "source": [
        "# Descriptivos del MAPE\n",
        "result.describe().T"
      ],
      "id": "5a7c710e"
    },
    {
      "cell_type": "code",
      "source": [],
      "metadata": {
        "id": "8a7RSDJ-pVY_"
      },
      "id": "8a7RSDJ-pVY_",
      "execution_count": null,
      "outputs": []
    }
  ],
  "metadata": {
    "colab": {
      "provenance": [],
      "toc_visible": true,
      "include_colab_link": true
    },
    "kernelspec": {
      "display_name": "Python 3 (ipykernel)",
      "language": "python",
      "name": "python3"
    },
    "language_info": {
      "codemirror_mode": {
        "name": "ipython",
        "version": 3
      },
      "file_extension": ".py",
      "mimetype": "text/x-python",
      "name": "python",
      "nbconvert_exporter": "python",
      "pygments_lexer": "ipython3",
      "version": "3.9.13"
    }
  },
  "nbformat": 4,
  "nbformat_minor": 5
}