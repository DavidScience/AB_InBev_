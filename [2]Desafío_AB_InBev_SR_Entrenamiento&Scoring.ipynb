{
  "nbformat": 4,
  "nbformat_minor": 0,
  "metadata": {
    "colab": {
      "provenance": []
    },
    "kernelspec": {
      "name": "python3",
      "display_name": "Python 3"
    },
    "language_info": {
      "name": "python"
    }
  },
  "cells": [
    {
      "cell_type": "markdown",
      "source": [
        "# Desafío AB InBev"
      ],
      "metadata": {
        "id": "G63QJSCQTjTm"
      }
    },
    {
      "cell_type": "markdown",
      "source": [
        "## [0] Librerías necesarias para el proyecto"
      ],
      "metadata": {
        "id": "dRVDjQOmQn2E"
      }
    },
    {
      "cell_type": "code",
      "source": [
        "# Conectamos Google Drive con Google Colab\n",
        "from google.colab import drive\n",
        "drive.mount('/gdrive')"
      ],
      "metadata": {
        "colab": {
          "base_uri": "https://localhost:8080/"
        },
        "id": "w-hre9WERolN",
        "outputId": "466dbd46-abed-4c35-c73a-af05a916bd18"
      },
      "execution_count": 1,
      "outputs": [
        {
          "output_type": "stream",
          "name": "stdout",
          "text": [
            "Mounted at /gdrive\n"
          ]
        }
      ]
    },
    {
      "cell_type": "code",
      "source": [
        "# Librerías necesarias para el desarrollo del proyecto\n",
        "import pandas as pd\n",
        "import plotly.express as px\n",
        "import numpy as np\n",
        "import matplotlib.pyplot as plt\n",
        "import warnings\n",
        "import pickle\n",
        "import scipy.sparse\n",
        "from collections import defaultdict\n",
        "from scipy.sparse.linalg import svds\n",
        "from sklearn.preprocessing import normalize\n",
        "import sys\n",
        "import os\n",
        "import time\n",
        "import multiprocessing as mp\n",
        "from tqdm import tqdm\n",
        "from datetime import date"
      ],
      "metadata": {
        "id": "Q4DbWlUcRrmy"
      },
      "execution_count": 2,
      "outputs": []
    },
    {
      "cell_type": "markdown",
      "source": [
        "## [1] Entendimiento de los datos\n",
        "\n",
        "Etapa inicial en un proyecto de Ciencia de Datos, nos permite explorar las características de los datos a ser modelados."
      ],
      "metadata": {
        "id": "rKmT-BI1B7Ay"
      }
    },
    {
      "cell_type": "code",
      "execution_count": 3,
      "metadata": {
        "id": "E81gvnxfBMkN"
      },
      "outputs": [],
      "source": [
        "# Lectura de los datos (formato parquet)\n",
        "data = pd.read_parquet('/gdrive/My Drive/AB_InBev/datos/dataset_test.parquet', engine='pyarrow')"
      ]
    },
    {
      "cell_type": "code",
      "source": [
        "# Creamos una lista de campos que serán analizados\n",
        "vars = data.columns.to_list()\n",
        "vars"
      ],
      "metadata": {
        "id": "WMw2SicKJrox",
        "colab": {
          "base_uri": "https://localhost:8080/"
        },
        "outputId": "0ea02ef7-1cfc-4508-e8ab-122c30050c77"
      },
      "execution_count": 4,
      "outputs": [
        {
          "output_type": "execute_result",
          "data": {
            "text/plain": [
              "['Date', 'Account_id', 'Product_id', 'Category', 'Quantity']"
            ]
          },
          "metadata": {},
          "execution_count": 4
        }
      ]
    },
    {
      "cell_type": "code",
      "source": [
        "# Agrupamos la data (está expresada a nivel transaccional) a nivel cliente - producto - día\n",
        "data = data.groupby(vars[:-1])[vars[-1]].sum().reset_index()"
      ],
      "metadata": {
        "id": "5q22KLo-I1GN"
      },
      "execution_count": 5,
      "outputs": []
    },
    {
      "cell_type": "code",
      "source": [
        "# Cambiamos el campo Date de objeto a fecha\n",
        "data['Date'] = data['Date'].astype('datetime64[ns]')"
      ],
      "metadata": {
        "id": "rWcWu0clb090"
      },
      "execution_count": 6,
      "outputs": []
    },
    {
      "cell_type": "code",
      "source": [
        "# Generamos el resumen de la cantidad de clientes a nivel día\n",
        "res_date = data.groupby(['Date'])['Account_id'].count().reset_index()"
      ],
      "metadata": {
        "id": "uTOzrm4d8nym"
      },
      "execution_count": 7,
      "outputs": []
    },
    {
      "cell_type": "code",
      "source": [
        "# Calculamos las fechas que presentan un comportamiento atípico a nivel de clientes\n",
        "p75 = np.quantile(res_date['Account_id'],0.75)\n",
        "p25 = np.quantile(res_date['Account_id'],0.25)\n",
        "ric = p75 - p25\n",
        "l_inf = p25 - (1.5*ric)\n",
        "l_sup = p75 - (1.5*ric)"
      ],
      "metadata": {
        "id": "6xZvCKqjg1Bz"
      },
      "execution_count": 9,
      "outputs": []
    },
    {
      "cell_type": "code",
      "source": [
        "# Extraemos los campos Year y Month desde el campo Date\n",
        "data['Year'] = data['Date'].dt.year \n",
        "data['Month'] = data['Date'].dt.month "
      ],
      "metadata": {
        "id": "95FmTkw4cpZs"
      },
      "execution_count": 10,
      "outputs": []
    },
    {
      "cell_type": "code",
      "source": [
        "# Guardamos los datos agrupados a nivel cliente - producto - día\n",
        "#data.to_csv('/gdrive/My Drive/AB_InBev/datos/data_agrupada.csv',header='True',index_label='False')"
      ],
      "metadata": {
        "id": "HKYHWTNEUDS1"
      },
      "execution_count": 11,
      "outputs": []
    },
    {
      "cell_type": "markdown",
      "source": [
        "## [2] Preparación de los datos\n",
        "\n",
        "Etapa en la que limpiamos los datos para simplificar la complejidad natural de la búsqueda de patrones por parte de los algoritmos."
      ],
      "metadata": {
        "id": "znm0bQnLZWau"
      }
    },
    {
      "cell_type": "code",
      "source": [
        "# Calculamos los rangos intercuartílicos para la identificación de outliers a nivel de cantidad de compras\n",
        "\n",
        "q3 = np.quantile(data['Quantity'],0.75)\n",
        "q1 = np.quantile(data['Quantity'],0.25)\n",
        "ric = q3 - q1\n",
        "lim_sup = q3 + (1.5*ric)\n",
        "lim_inf = q1 - (1.5*ric)"
      ],
      "metadata": {
        "id": "9eo-6qTBT62W"
      },
      "execution_count": 12,
      "outputs": []
    },
    {
      "cell_type": "code",
      "source": [
        "# Límites según criterio de Boxplot\n",
        "lim_inf, lim_sup"
      ],
      "metadata": {
        "id": "wSsZgGXWT67d",
        "colab": {
          "base_uri": "https://localhost:8080/"
        },
        "outputId": "d94f0b49-4d3d-4359-f52e-d056030b9186"
      },
      "execution_count": 13,
      "outputs": [
        {
          "output_type": "execute_result",
          "data": {
            "text/plain": [
              "(-578.5, 1201.5)"
            ]
          },
          "metadata": {},
          "execution_count": 13
        }
      ]
    },
    {
      "cell_type": "code",
      "source": [
        "# Filtramos los casos que se encuentran contenidos entre los límites\n",
        "data = data[(data['Quantity']>= lim_inf) & (data['Quantity']<= lim_sup)]"
      ],
      "metadata": {
        "id": "psAeTBEbT7Od"
      },
      "execution_count": 14,
      "outputs": []
    },
    {
      "cell_type": "code",
      "source": [
        "# Analizamos la cantidad de compradores por día\n",
        "data_comprador = data.groupby(['Date'])['Account_id'].nunique().reset_index()\n"
      ],
      "metadata": {
        "id": "ehJp6brBzGYF"
      },
      "execution_count": 15,
      "outputs": []
    },
    {
      "cell_type": "code",
      "source": [
        "# Calculamos la cantidad de compradores atípicos por día\n",
        "perc75 = np.quantile(data_comprador.Account_id.values,0.75)\n",
        "perc25 = np.quantile(data_comprador.Account_id.values,0.25)\n",
        "ric = perc75 - perc25\n",
        "l_inf = perc25 - (1.5*ric)\n",
        "l_sup = perc75 + (1.5*ric)\n",
        "l_inf, l_sup"
      ],
      "metadata": {
        "colab": {
          "base_uri": "https://localhost:8080/"
        },
        "id": "QGuBG3ZzZMjL",
        "outputId": "b3f28e56-b485-4a8f-aa12-e410561b6212"
      },
      "execution_count": 16,
      "outputs": [
        {
          "output_type": "execute_result",
          "data": {
            "text/plain": [
              "(610.25, 2292.25)"
            ]
          },
          "metadata": {},
          "execution_count": 16
        }
      ]
    },
    {
      "cell_type": "code",
      "source": [
        "# Analizamos los días en los que no hubieron cantidad atípica de compradores (menores al límite inferior)\n",
        "data_fec_out = data_comprador[(data_comprador['Account_id']<l_inf)]"
      ],
      "metadata": {
        "id": "oMJp6FcFwsUM"
      },
      "execution_count": 17,
      "outputs": []
    },
    {
      "cell_type": "code",
      "source": [
        "# Excluimos a los días en los que hubieron pocos compradores\n",
        "data = data[(~data['Date'].isin(data_fec_out.Date.values))]"
      ],
      "metadata": {
        "id": "UQrHRadxwsdF"
      },
      "execution_count": 18,
      "outputs": []
    },
    {
      "cell_type": "code",
      "source": [
        "# Guardamos los datos agrupados sin outliers\n",
        "#data.to_csv('/gdrive/My Drive/AB_InBev/datos/data_agrupada_so.csv',header='True',index= False,index_label=False)"
      ],
      "metadata": {
        "id": "rrUpauW4WGvK"
      },
      "execution_count": 19,
      "outputs": []
    },
    {
      "cell_type": "code",
      "source": [
        "# Calculamos la cantidad de meses\n",
        "n_meses = data.Month.max()\n",
        "n_meses"
      ],
      "metadata": {
        "colab": {
          "base_uri": "https://localhost:8080/"
        },
        "id": "AEA2D6itbHuM",
        "outputId": "a03849b8-6d26-4729-8a28-5d424082b2b0"
      },
      "execution_count": 20,
      "outputs": [
        {
          "output_type": "execute_result",
          "data": {
            "text/plain": [
              "7"
            ]
          },
          "metadata": {},
          "execution_count": 20
        }
      ]
    },
    {
      "cell_type": "code",
      "source": [
        "# Separamos los datos para entrenar el modelo (data_train) y para validarlo (data_test)\n",
        "data_train = data[(data['Month']<=(n_meses))]"
      ],
      "metadata": {
        "id": "_VIpTXn4wbkg"
      },
      "execution_count": 21,
      "outputs": []
    },
    {
      "cell_type": "code",
      "source": [
        "# Exportamos los datos de entrenamiento y validación\n",
        "#data_train.to_csv('/gdrive/My Drive/AB_InBev/datos/data_train.csv',header='True',index= False,index_label=False)"
      ],
      "metadata": {
        "id": "K2iWZZj3TdZa"
      },
      "execution_count": 22,
      "outputs": []
    },
    {
      "cell_type": "code",
      "source": [
        "###################\n",
        "#### Temporal\n",
        "###################\n",
        "\n",
        "#data_train = pd.read_csv('/gdrive/My Drive/AB_InBev/datos/data_train.csv')"
      ],
      "metadata": {
        "id": "N58pjl65aKBs"
      },
      "execution_count": 23,
      "outputs": []
    },
    {
      "cell_type": "code",
      "source": [
        "# Agrupamos las compras a nivel cliente - producto - cantidad de productos comprados por día\n",
        "data_train_sr = data_train.groupby(['Account_id','Product_id'])['Quantity'].mean().reset_index()\n",
        "data_train_sr.head(10)"
      ],
      "metadata": {
        "id": "sKqC1v-slZW-",
        "colab": {
          "base_uri": "https://localhost:8080/",
          "height": 363
        },
        "outputId": "3bc323cb-0c46-4332-ee72-c505cbb40bca"
      },
      "execution_count": 24,
      "outputs": [
        {
          "output_type": "execute_result",
          "data": {
            "text/plain": [
              "   Account_id  Product_id    Quantity\n",
              "0    33214647        8222  123.923077\n",
              "1    33214647        8352   92.250000\n",
              "2    33214647        8358   89.000000\n",
              "3    33214647       14014  248.181818\n",
              "4    33214647       16578   83.750000\n",
              "5    33214647       16582  311.500000\n",
              "6    33214647       17468  311.500000\n",
              "7    33214647       22270   85.500000\n",
              "8    33217422        8230   84.428571\n",
              "9    33217422        8320   89.000000"
            ],
            "text/html": [
              "\n",
              "  <div id=\"df-b46e0d03-c662-49ad-8872-ec1e0adc6e97\">\n",
              "    <div class=\"colab-df-container\">\n",
              "      <div>\n",
              "<style scoped>\n",
              "    .dataframe tbody tr th:only-of-type {\n",
              "        vertical-align: middle;\n",
              "    }\n",
              "\n",
              "    .dataframe tbody tr th {\n",
              "        vertical-align: top;\n",
              "    }\n",
              "\n",
              "    .dataframe thead th {\n",
              "        text-align: right;\n",
              "    }\n",
              "</style>\n",
              "<table border=\"1\" class=\"dataframe\">\n",
              "  <thead>\n",
              "    <tr style=\"text-align: right;\">\n",
              "      <th></th>\n",
              "      <th>Account_id</th>\n",
              "      <th>Product_id</th>\n",
              "      <th>Quantity</th>\n",
              "    </tr>\n",
              "  </thead>\n",
              "  <tbody>\n",
              "    <tr>\n",
              "      <th>0</th>\n",
              "      <td>33214647</td>\n",
              "      <td>8222</td>\n",
              "      <td>123.923077</td>\n",
              "    </tr>\n",
              "    <tr>\n",
              "      <th>1</th>\n",
              "      <td>33214647</td>\n",
              "      <td>8352</td>\n",
              "      <td>92.250000</td>\n",
              "    </tr>\n",
              "    <tr>\n",
              "      <th>2</th>\n",
              "      <td>33214647</td>\n",
              "      <td>8358</td>\n",
              "      <td>89.000000</td>\n",
              "    </tr>\n",
              "    <tr>\n",
              "      <th>3</th>\n",
              "      <td>33214647</td>\n",
              "      <td>14014</td>\n",
              "      <td>248.181818</td>\n",
              "    </tr>\n",
              "    <tr>\n",
              "      <th>4</th>\n",
              "      <td>33214647</td>\n",
              "      <td>16578</td>\n",
              "      <td>83.750000</td>\n",
              "    </tr>\n",
              "    <tr>\n",
              "      <th>5</th>\n",
              "      <td>33214647</td>\n",
              "      <td>16582</td>\n",
              "      <td>311.500000</td>\n",
              "    </tr>\n",
              "    <tr>\n",
              "      <th>6</th>\n",
              "      <td>33214647</td>\n",
              "      <td>17468</td>\n",
              "      <td>311.500000</td>\n",
              "    </tr>\n",
              "    <tr>\n",
              "      <th>7</th>\n",
              "      <td>33214647</td>\n",
              "      <td>22270</td>\n",
              "      <td>85.500000</td>\n",
              "    </tr>\n",
              "    <tr>\n",
              "      <th>8</th>\n",
              "      <td>33217422</td>\n",
              "      <td>8230</td>\n",
              "      <td>84.428571</td>\n",
              "    </tr>\n",
              "    <tr>\n",
              "      <th>9</th>\n",
              "      <td>33217422</td>\n",
              "      <td>8320</td>\n",
              "      <td>89.000000</td>\n",
              "    </tr>\n",
              "  </tbody>\n",
              "</table>\n",
              "</div>\n",
              "      <button class=\"colab-df-convert\" onclick=\"convertToInteractive('df-b46e0d03-c662-49ad-8872-ec1e0adc6e97')\"\n",
              "              title=\"Convert this dataframe to an interactive table.\"\n",
              "              style=\"display:none;\">\n",
              "        \n",
              "  <svg xmlns=\"http://www.w3.org/2000/svg\" height=\"24px\"viewBox=\"0 0 24 24\"\n",
              "       width=\"24px\">\n",
              "    <path d=\"M0 0h24v24H0V0z\" fill=\"none\"/>\n",
              "    <path d=\"M18.56 5.44l.94 2.06.94-2.06 2.06-.94-2.06-.94-.94-2.06-.94 2.06-2.06.94zm-11 1L8.5 8.5l.94-2.06 2.06-.94-2.06-.94L8.5 2.5l-.94 2.06-2.06.94zm10 10l.94 2.06.94-2.06 2.06-.94-2.06-.94-.94-2.06-.94 2.06-2.06.94z\"/><path d=\"M17.41 7.96l-1.37-1.37c-.4-.4-.92-.59-1.43-.59-.52 0-1.04.2-1.43.59L10.3 9.45l-7.72 7.72c-.78.78-.78 2.05 0 2.83L4 21.41c.39.39.9.59 1.41.59.51 0 1.02-.2 1.41-.59l7.78-7.78 2.81-2.81c.8-.78.8-2.07 0-2.86zM5.41 20L4 18.59l7.72-7.72 1.47 1.35L5.41 20z\"/>\n",
              "  </svg>\n",
              "      </button>\n",
              "      \n",
              "  <style>\n",
              "    .colab-df-container {\n",
              "      display:flex;\n",
              "      flex-wrap:wrap;\n",
              "      gap: 12px;\n",
              "    }\n",
              "\n",
              "    .colab-df-convert {\n",
              "      background-color: #E8F0FE;\n",
              "      border: none;\n",
              "      border-radius: 50%;\n",
              "      cursor: pointer;\n",
              "      display: none;\n",
              "      fill: #1967D2;\n",
              "      height: 32px;\n",
              "      padding: 0 0 0 0;\n",
              "      width: 32px;\n",
              "    }\n",
              "\n",
              "    .colab-df-convert:hover {\n",
              "      background-color: #E2EBFA;\n",
              "      box-shadow: 0px 1px 2px rgba(60, 64, 67, 0.3), 0px 1px 3px 1px rgba(60, 64, 67, 0.15);\n",
              "      fill: #174EA6;\n",
              "    }\n",
              "\n",
              "    [theme=dark] .colab-df-convert {\n",
              "      background-color: #3B4455;\n",
              "      fill: #D2E3FC;\n",
              "    }\n",
              "\n",
              "    [theme=dark] .colab-df-convert:hover {\n",
              "      background-color: #434B5C;\n",
              "      box-shadow: 0px 1px 3px 1px rgba(0, 0, 0, 0.15);\n",
              "      filter: drop-shadow(0px 1px 2px rgba(0, 0, 0, 0.3));\n",
              "      fill: #FFFFFF;\n",
              "    }\n",
              "  </style>\n",
              "\n",
              "      <script>\n",
              "        const buttonEl =\n",
              "          document.querySelector('#df-b46e0d03-c662-49ad-8872-ec1e0adc6e97 button.colab-df-convert');\n",
              "        buttonEl.style.display =\n",
              "          google.colab.kernel.accessAllowed ? 'block' : 'none';\n",
              "\n",
              "        async function convertToInteractive(key) {\n",
              "          const element = document.querySelector('#df-b46e0d03-c662-49ad-8872-ec1e0adc6e97');\n",
              "          const dataTable =\n",
              "            await google.colab.kernel.invokeFunction('convertToInteractive',\n",
              "                                                     [key], {});\n",
              "          if (!dataTable) return;\n",
              "\n",
              "          const docLinkHtml = 'Like what you see? Visit the ' +\n",
              "            '<a target=\"_blank\" href=https://colab.research.google.com/notebooks/data_table.ipynb>data table notebook</a>'\n",
              "            + ' to learn more about interactive tables.';\n",
              "          element.innerHTML = '';\n",
              "          dataTable['output_type'] = 'display_data';\n",
              "          await google.colab.output.renderOutput(dataTable, element);\n",
              "          const docLink = document.createElement('div');\n",
              "          docLink.innerHTML = docLinkHtml;\n",
              "          element.appendChild(docLink);\n",
              "        }\n",
              "      </script>\n",
              "    </div>\n",
              "  </div>\n",
              "  "
            ]
          },
          "metadata": {},
          "execution_count": 24
        }
      ]
    },
    {
      "cell_type": "code",
      "source": [
        "# Creamos una lista ordenada en base al id del cliente\n",
        "clients = list(sorted(set(data_train_sr['Account_id'].values)))\n",
        "data_train_sr['cliente'] = np.searchsorted(clients, data_train_sr['Account_id'], side='left')\n"
      ],
      "metadata": {
        "id": "XlZcJG8dmASx"
      },
      "execution_count": 25,
      "outputs": []
    },
    {
      "cell_type": "code",
      "source": [
        "# Creamos una lista ordenada en base al id del producto\n",
        "products = list(sorted(set(data_train_sr['Product_id'].values)))\n",
        "data_train_sr['sku'] = np.searchsorted(products, data_train_sr['Product_id'], side='left')"
      ],
      "metadata": {
        "id": "Eh8c9mEpm9_4"
      },
      "execution_count": 27,
      "outputs": []
    },
    {
      "cell_type": "code",
      "source": [
        "# Definimos como índices a los clientes y productos comprados\n",
        "data_train_sr = data_train_sr.set_index(['cliente', 'sku'], drop=False)"
      ],
      "metadata": {
        "id": "kvFiB8s5nYSj"
      },
      "execution_count": 28,
      "outputs": []
    },
    {
      "cell_type": "code",
      "source": [
        "# Exportamos los datos\n",
        "#data_train_sr.to_csv('/gdrive/My Drive/AB_InBev/datos/data_train_sr.csv',header='True',index= False,index_label=False)"
      ],
      "metadata": {
        "id": "u1a7pytvfsg-"
      },
      "execution_count": 29,
      "outputs": []
    },
    {
      "cell_type": "code",
      "source": [
        "# Creamos una matriz dispersa para el proceso de aprendizaje del algoritmo\n",
        "sparse_data = scipy.sparse.csc_matrix((\n",
        "    data_train_sr['Quantity'].values.astype(dtype=np.float64), \n",
        "    (data_train_sr['cliente'].values, data_train_sr['sku'].values)\n",
        "))"
      ],
      "metadata": {
        "id": "ZOUQ8dTtn1H9"
      },
      "execution_count": 30,
      "outputs": []
    },
    {
      "cell_type": "code",
      "source": [
        "# Normalizamos la matriz dispersa\n",
        "sparse_data = normalize(sparse_data, axis=1)"
      ],
      "metadata": {
        "id": "biuSUrUdoM3r"
      },
      "execution_count": 31,
      "outputs": []
    },
    {
      "cell_type": "code",
      "source": [
        "# Eliminar datasets pesados\n",
        "del data\n",
        "del data_comprador\n",
        "del data_fec_out"
      ],
      "metadata": {
        "id": "rnR_u4yLW47c"
      },
      "execution_count": null,
      "outputs": []
    },
    {
      "cell_type": "code",
      "source": [
        "# Factorización matricial, generando tres matrices insumo para el algoritmo\n",
        "U, sigma, Vt = svds(sparse_data, k = 150, maxiter=30000) "
      ],
      "metadata": {
        "id": "G6pY4zVlot_7"
      },
      "execution_count": 33,
      "outputs": []
    },
    {
      "cell_type": "code",
      "source": [
        "# Creamos una matriz diagonal\n",
        "sigma = np.diag(sigma)"
      ],
      "metadata": {
        "id": "aAQkOfX_Cmpx"
      },
      "execution_count": 34,
      "outputs": []
    },
    {
      "cell_type": "code",
      "source": [
        "# Creamos el data frame de productos con sus identificadores\n",
        "promos = pd.DataFrame(products, columns=['id_sku'])"
      ],
      "metadata": {
        "id": "ojRD3QGWcSkS"
      },
      "execution_count": 35,
      "outputs": []
    },
    {
      "cell_type": "code",
      "source": [
        "# Buscamos los índices de los productos que buscamos recomendar (homologación de índices)\n",
        "start_time = time.time()\n",
        "\n",
        "promos2 = promos[promos['id_sku'].isin(products)] #lo que esta en promos lo busca en products, si está lo retorna\n",
        "promos2['idx_sku'] = np.searchsorted(products, promos2['id_sku'].values)\n",
        "\n",
        "print(\"Iniciando Transformaciones: \", time.strftime(\"%H:%M:%S\", time.gmtime(time.time() - start_time)))"
      ],
      "metadata": {
        "id": "kPjnnrQqddI5",
        "colab": {
          "base_uri": "https://localhost:8080/"
        },
        "outputId": "01b2fedf-3b02-4f28-d128-bec02489e2ff"
      },
      "execution_count": 36,
      "outputs": [
        {
          "output_type": "stream",
          "name": "stdout",
          "text": [
            "Iniciando Transformaciones:  00:00:00\n"
          ]
        }
      ]
    },
    {
      "cell_type": "code",
      "source": [
        "# Filtramos los productos que buscamos recomendar en la matriz de compra de productos\n",
        "promotional_products_idx = list(promos2['idx_sku'].values)\n",
        "product_embeds = np.take(Vt, promotional_products_idx,axis=1)"
      ],
      "metadata": {
        "id": "4KOn3xQZeNyU"
      },
      "execution_count": 37,
      "outputs": []
    },
    {
      "cell_type": "code",
      "source": [
        "# Definimos los clientes a los que aplicaremos las recomendaciones\n",
        "customers = pd.DataFrame(data_train_sr.Account_id.unique(),columns=['Account_id'])\n",
        "customers_2 = customers[customers['Account_id'].isin(clients)]\n",
        "customers_2['idx_corp'] = np.searchsorted(clients, customers_2['Account_id'].values)\n",
        "a = list(customers_2['idx_corp'].values)"
      ],
      "metadata": {
        "id": "Ag0S1P_le6rl"
      },
      "execution_count": 38,
      "outputs": []
    },
    {
      "cell_type": "code",
      "source": [
        "# Filtra a todos los usuarios de la matriz U (matriz de compras clientes)\n",
        "promo_mail_stats = {}\n",
        "r_clients_preferences_embed = np.take(U, a, axis=0)"
      ],
      "metadata": {
        "id": "xKKpebo-fnmf"
      },
      "execution_count": 39,
      "outputs": []
    },
    {
      "cell_type": "code",
      "source": [
        "# Construye la matriz M (usuarios y productos)\n",
        "r_c_product_recommendations = np.dot(np.dot(r_clients_preferences_embed, sigma), product_embeds)"
      ],
      "metadata": {
        "id": "uBRBZqA0-H8l"
      },
      "execution_count": 40,
      "outputs": []
    },
    {
      "cell_type": "code",
      "source": [
        "# Validamos la dimensionalidad\n",
        "r_c_product_recommendations.shape"
      ],
      "metadata": {
        "colab": {
          "base_uri": "https://localhost:8080/"
        },
        "id": "kZHvV2WJ-kYD",
        "outputId": "87b43004-27a7-4d1a-bb88-782920b7bd61"
      },
      "execution_count": 41,
      "outputs": [
        {
          "output_type": "execute_result",
          "data": {
            "text/plain": [
              "(12534, 181)"
            ]
          },
          "metadata": {},
          "execution_count": 41
        }
      ]
    },
    {
      "cell_type": "markdown",
      "source": [
        "## [3] Entrenamiento de algoritmo\n",
        "\n",
        "Etapa en la que entrenamos al algoritmo y este se encarga de la búsqueda de patrones que permitirán predecir eventos futuros."
      ],
      "metadata": {
        "id": "sEDOcYdkjuXS"
      }
    },
    {
      "cell_type": "code",
      "source": [
        "# Función que permite generar recomendaciones a nivel cliente\n",
        "def mass_recomm(promoss, client_preferences, promos_id_sku, ID_CORP, n_recom=15):\n",
        "    promoss['score'] = np.take(client_preferences,  np.arange(promoss.shape[0]), axis=0)\n",
        "    promos_a = promoss.groupby(['id_sku'])['score'].max().reset_index() \n",
        "    promos_a_s = promos_a.sort_values('score', ascending=False).reset_index(drop=True).reset_index() \n",
        "    promos_a_s['index'] += 1 \n",
        "    promos_a_s['ID_CORP'] = ID_CORP\n",
        "    # return promos_a_s.head(int(sys.argv[2]))\n",
        "    return promos_a_s.head(int(n_recom))\n",
        "    # return promos_a_s"
      ],
      "metadata": {
        "id": "gFArVM-dr2wZ"
      },
      "execution_count": 42,
      "outputs": []
    },
    {
      "cell_type": "code",
      "source": [
        "n_recom = 5"
      ],
      "metadata": {
        "id": "Ipj714G9v4T2"
      },
      "execution_count": 43,
      "outputs": []
    },
    {
      "cell_type": "code",
      "source": [
        "# Step 1: Init multiprocessing.Pool()\n",
        "pool = mp.Pool(mp.cpu_count())\n",
        "\n",
        "# Step 2: `pool.starmap` the `mass_recomm()`\n",
        "results = pool.starmap(mass_recomm, tqdm([(promos2, r_c_product_recommendations[client_idx], promotional_products_idx, clients[a_idx], n_recom) for client_idx, a_idx in zip(list(range(len(a))), a)]))\n",
        "\n",
        "# Step 3: Don't forget to close\n",
        "pool.close()\n",
        "\n",
        "promo_mails = pd.concat(results, axis=0)\n",
        "del results"
      ],
      "metadata": {
        "colab": {
          "base_uri": "https://localhost:8080/"
        },
        "id": "DayzaXXlr6Yn",
        "outputId": "16a61062-feb7-41a5-a82f-8fbb181480d1"
      },
      "execution_count": 44,
      "outputs": [
        {
          "output_type": "stream",
          "name": "stderr",
          "text": [
            "100%|██████████| 12534/12534 [00:21<00:00, 573.04it/s]\n"
          ]
        }
      ]
    },
    {
      "cell_type": "code",
      "source": [
        "# Descriptivo de las estadísticas del score\n",
        "promo_mails['score'].describe().T"
      ],
      "metadata": {
        "id": "RTzyx3JFNU2Q",
        "colab": {
          "base_uri": "https://localhost:8080/"
        },
        "outputId": "d44be256-3da2-4793-ced3-8bdd727402db"
      },
      "execution_count": 45,
      "outputs": [
        {
          "output_type": "execute_result",
          "data": {
            "text/plain": [
              "count    62670.000000\n",
              "mean         0.340052\n",
              "std          0.173931\n",
              "min          0.000010\n",
              "25%          0.250467\n",
              "50%          0.316928\n",
              "75%          0.412188\n",
              "max          1.000000\n",
              "Name: score, dtype: float64"
            ]
          },
          "metadata": {},
          "execution_count": 45
        }
      ]
    },
    {
      "cell_type": "code",
      "source": [
        "# Cantidad de usuarios únicos\n",
        "promo_mails.ID_CORP.nunique()"
      ],
      "metadata": {
        "id": "GG0cLUP_aJYa",
        "colab": {
          "base_uri": "https://localhost:8080/"
        },
        "outputId": "cdc7be79-3bb2-4ccd-a2ed-7e40aba9a6b3"
      },
      "execution_count": 46,
      "outputs": [
        {
          "output_type": "execute_result",
          "data": {
            "text/plain": [
              "12534"
            ]
          },
          "metadata": {},
          "execution_count": 46
        }
      ]
    },
    {
      "cell_type": "markdown",
      "source": [
        "## [4] Scoring"
      ],
      "metadata": {
        "id": "yvACRlZHmNva"
      }
    },
    {
      "cell_type": "code",
      "source": [
        "output = pd.DataFrame([])\n",
        "output['Account_id'] = promo_mails['ID_CORP']"
      ],
      "metadata": {
        "id": "Nj6Lq_0YZsof"
      },
      "execution_count": 49,
      "outputs": []
    },
    {
      "cell_type": "code",
      "source": [
        "output['Product_id'] = promo_mails['id_sku']"
      ],
      "metadata": {
        "id": "bouq7doIaCox"
      },
      "execution_count": 50,
      "outputs": []
    },
    {
      "cell_type": "code",
      "source": [
        "output.head(10)"
      ],
      "metadata": {
        "colab": {
          "base_uri": "https://localhost:8080/",
          "height": 363
        },
        "id": "hTKQrJW5aYad",
        "outputId": "14a660b1-796b-4e6d-ef33-f760b2ee2da4"
      },
      "execution_count": 51,
      "outputs": [
        {
          "output_type": "execute_result",
          "data": {
            "text/plain": [
              "   Account_id  Product_id\n",
              "0    33214647       17468\n",
              "1    33214647       16582\n",
              "2    33214647       14014\n",
              "3    33214647        8222\n",
              "4    33214647        8352\n",
              "0    33217422        8328\n",
              "1    33217422        8320\n",
              "2    33217422        8356\n",
              "3    33217422        8334\n",
              "4    33217422        8230"
            ],
            "text/html": [
              "\n",
              "  <div id=\"df-eea566b3-561d-4aad-94df-fbd37b84c1a6\">\n",
              "    <div class=\"colab-df-container\">\n",
              "      <div>\n",
              "<style scoped>\n",
              "    .dataframe tbody tr th:only-of-type {\n",
              "        vertical-align: middle;\n",
              "    }\n",
              "\n",
              "    .dataframe tbody tr th {\n",
              "        vertical-align: top;\n",
              "    }\n",
              "\n",
              "    .dataframe thead th {\n",
              "        text-align: right;\n",
              "    }\n",
              "</style>\n",
              "<table border=\"1\" class=\"dataframe\">\n",
              "  <thead>\n",
              "    <tr style=\"text-align: right;\">\n",
              "      <th></th>\n",
              "      <th>Account_id</th>\n",
              "      <th>Product_id</th>\n",
              "    </tr>\n",
              "  </thead>\n",
              "  <tbody>\n",
              "    <tr>\n",
              "      <th>0</th>\n",
              "      <td>33214647</td>\n",
              "      <td>17468</td>\n",
              "    </tr>\n",
              "    <tr>\n",
              "      <th>1</th>\n",
              "      <td>33214647</td>\n",
              "      <td>16582</td>\n",
              "    </tr>\n",
              "    <tr>\n",
              "      <th>2</th>\n",
              "      <td>33214647</td>\n",
              "      <td>14014</td>\n",
              "    </tr>\n",
              "    <tr>\n",
              "      <th>3</th>\n",
              "      <td>33214647</td>\n",
              "      <td>8222</td>\n",
              "    </tr>\n",
              "    <tr>\n",
              "      <th>4</th>\n",
              "      <td>33214647</td>\n",
              "      <td>8352</td>\n",
              "    </tr>\n",
              "    <tr>\n",
              "      <th>0</th>\n",
              "      <td>33217422</td>\n",
              "      <td>8328</td>\n",
              "    </tr>\n",
              "    <tr>\n",
              "      <th>1</th>\n",
              "      <td>33217422</td>\n",
              "      <td>8320</td>\n",
              "    </tr>\n",
              "    <tr>\n",
              "      <th>2</th>\n",
              "      <td>33217422</td>\n",
              "      <td>8356</td>\n",
              "    </tr>\n",
              "    <tr>\n",
              "      <th>3</th>\n",
              "      <td>33217422</td>\n",
              "      <td>8334</td>\n",
              "    </tr>\n",
              "    <tr>\n",
              "      <th>4</th>\n",
              "      <td>33217422</td>\n",
              "      <td>8230</td>\n",
              "    </tr>\n",
              "  </tbody>\n",
              "</table>\n",
              "</div>\n",
              "      <button class=\"colab-df-convert\" onclick=\"convertToInteractive('df-eea566b3-561d-4aad-94df-fbd37b84c1a6')\"\n",
              "              title=\"Convert this dataframe to an interactive table.\"\n",
              "              style=\"display:none;\">\n",
              "        \n",
              "  <svg xmlns=\"http://www.w3.org/2000/svg\" height=\"24px\"viewBox=\"0 0 24 24\"\n",
              "       width=\"24px\">\n",
              "    <path d=\"M0 0h24v24H0V0z\" fill=\"none\"/>\n",
              "    <path d=\"M18.56 5.44l.94 2.06.94-2.06 2.06-.94-2.06-.94-.94-2.06-.94 2.06-2.06.94zm-11 1L8.5 8.5l.94-2.06 2.06-.94-2.06-.94L8.5 2.5l-.94 2.06-2.06.94zm10 10l.94 2.06.94-2.06 2.06-.94-2.06-.94-.94-2.06-.94 2.06-2.06.94z\"/><path d=\"M17.41 7.96l-1.37-1.37c-.4-.4-.92-.59-1.43-.59-.52 0-1.04.2-1.43.59L10.3 9.45l-7.72 7.72c-.78.78-.78 2.05 0 2.83L4 21.41c.39.39.9.59 1.41.59.51 0 1.02-.2 1.41-.59l7.78-7.78 2.81-2.81c.8-.78.8-2.07 0-2.86zM5.41 20L4 18.59l7.72-7.72 1.47 1.35L5.41 20z\"/>\n",
              "  </svg>\n",
              "      </button>\n",
              "      \n",
              "  <style>\n",
              "    .colab-df-container {\n",
              "      display:flex;\n",
              "      flex-wrap:wrap;\n",
              "      gap: 12px;\n",
              "    }\n",
              "\n",
              "    .colab-df-convert {\n",
              "      background-color: #E8F0FE;\n",
              "      border: none;\n",
              "      border-radius: 50%;\n",
              "      cursor: pointer;\n",
              "      display: none;\n",
              "      fill: #1967D2;\n",
              "      height: 32px;\n",
              "      padding: 0 0 0 0;\n",
              "      width: 32px;\n",
              "    }\n",
              "\n",
              "    .colab-df-convert:hover {\n",
              "      background-color: #E2EBFA;\n",
              "      box-shadow: 0px 1px 2px rgba(60, 64, 67, 0.3), 0px 1px 3px 1px rgba(60, 64, 67, 0.15);\n",
              "      fill: #174EA6;\n",
              "    }\n",
              "\n",
              "    [theme=dark] .colab-df-convert {\n",
              "      background-color: #3B4455;\n",
              "      fill: #D2E3FC;\n",
              "    }\n",
              "\n",
              "    [theme=dark] .colab-df-convert:hover {\n",
              "      background-color: #434B5C;\n",
              "      box-shadow: 0px 1px 3px 1px rgba(0, 0, 0, 0.15);\n",
              "      filter: drop-shadow(0px 1px 2px rgba(0, 0, 0, 0.3));\n",
              "      fill: #FFFFFF;\n",
              "    }\n",
              "  </style>\n",
              "\n",
              "      <script>\n",
              "        const buttonEl =\n",
              "          document.querySelector('#df-eea566b3-561d-4aad-94df-fbd37b84c1a6 button.colab-df-convert');\n",
              "        buttonEl.style.display =\n",
              "          google.colab.kernel.accessAllowed ? 'block' : 'none';\n",
              "\n",
              "        async function convertToInteractive(key) {\n",
              "          const element = document.querySelector('#df-eea566b3-561d-4aad-94df-fbd37b84c1a6');\n",
              "          const dataTable =\n",
              "            await google.colab.kernel.invokeFunction('convertToInteractive',\n",
              "                                                     [key], {});\n",
              "          if (!dataTable) return;\n",
              "\n",
              "          const docLinkHtml = 'Like what you see? Visit the ' +\n",
              "            '<a target=\"_blank\" href=https://colab.research.google.com/notebooks/data_table.ipynb>data table notebook</a>'\n",
              "            + ' to learn more about interactive tables.';\n",
              "          element.innerHTML = '';\n",
              "          dataTable['output_type'] = 'display_data';\n",
              "          await google.colab.output.renderOutput(dataTable, element);\n",
              "          const docLink = document.createElement('div');\n",
              "          docLink.innerHTML = docLinkHtml;\n",
              "          element.appendChild(docLink);\n",
              "        }\n",
              "      </script>\n",
              "    </div>\n",
              "  </div>\n",
              "  "
            ]
          },
          "metadata": {},
          "execution_count": 51
        }
      ]
    },
    {
      "cell_type": "code",
      "source": [
        "output.to_csv('/gdrive/My Drive/AB_InBev/datos/output_sr.csv',header='True',index= False,index_label=False)"
      ],
      "metadata": {
        "id": "AIrqXywVFs6x"
      },
      "execution_count": 52,
      "outputs": []
    },
    {
      "cell_type": "code",
      "source": [],
      "metadata": {
        "id": "-IusVE4va7vE"
      },
      "execution_count": null,
      "outputs": []
    }
  ]
}